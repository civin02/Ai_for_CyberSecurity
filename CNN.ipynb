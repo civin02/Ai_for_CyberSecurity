{
 "cells": [
  {
   "cell_type": "code",
   "execution_count": 30,
   "metadata": {},
   "outputs": [],
   "source": [
    "import tensorflow as tf\n",
    "from tensorflow import keras\n",
    "from keras.utils import image_dataset_from_directory\n",
    "from tensorflow.keras import layers\n",
    "import os"
   ]
  },
  {
   "cell_type": "code",
   "execution_count": 31,
   "metadata": {},
   "outputs": [
    {
     "name": "stdout",
     "output_type": "stream",
     "text": [
      "Class Labels: ['Adialer.C', 'Agent.FYI', 'Allaple.A', 'Allaple.L', 'Alueron.gen!J', 'Autorun.K', 'C2LOP.P', 'C2LOP.gen!g', 'Dialplatform.B', 'Dontovo.A', 'Fakerean', 'Instantaccess', 'Lolyda.AA1', 'Lolyda.AA2', 'Lolyda.AA3', 'Lolyda.AT', 'Malex.gen!J', 'Obfuscator.AD', 'Rbot!gen', 'Skintrim.N', 'Swizzor.gen!E', 'Swizzor.gen!I', 'VB.AT', 'Wintrim.BX', 'Yuner.A']\n",
      "Found 7459 files belonging to 25 classes.\n",
      "Found 957 files belonging to 25 classes.\n",
      "Found 923 files belonging to 25 classes.\n"
     ]
    }
   ],
   "source": [
    "# Extract Class Labels\n",
    "train_data_dir = \"malimg_dataset\\\\train\"\n",
    "\n",
    "# Get the class labels from the folder names\n",
    "class_labels = sorted(os.listdir(train_data_dir))\n",
    "print(f\"Class Labels: {class_labels}\")\n",
    "\n",
    "# Load Data\n",
    "train_data = image_dataset_from_directory(train_data_dir, image_size=(200, 200), batch_size=40)\n",
    "test_data = image_dataset_from_directory(\"malimg_dataset\\\\test\", image_size=(200, 200), batch_size=40)\n",
    "validation_data = image_dataset_from_directory(\"malimg_dataset\\\\val\", image_size=(200, 200), batch_size=40)\n"
   ]
  },
  {
   "cell_type": "code",
   "execution_count": 32,
   "metadata": {},
   "outputs": [],
   "source": [
    "#Define the Model\n",
    "inputs = keras.Input(shape=(200,200,3))\n",
    "x= layers.Conv2D(filters = 40,kernel_size = 3,activation = \"relu\")(inputs)\n",
    "x= layers.MaxPooling2D(pool_size = 2)(x)\n",
    "x= layers.Conv2D(filters = 80,kernel_size = 3,activation = \"relu\")(x)\n",
    "x= layers.MaxPooling2D(pool_size = 2)(x)\n",
    "x= layers.Conv2D(filters = 120,kernel_size = 3,activation = \"relu\")(x)\n",
    "x= layers.MaxPooling2D(pool_size = 2)(x)\n",
    "x= layers.Conv2D(filters = 160,kernel_size = 3,activation = \"relu\")(x)\n",
    "x= layers.MaxPooling2D(pool_size = 2)(x)\n",
    "x= layers.Conv2D(filters = 200,kernel_size = 3,activation = \"relu\")(x)\n",
    "x= layers.MaxPooling2D(pool_size = 2)(x)\n",
    "x  =layers.Flatten()(x)\n",
    "x= layers.Dense(200,activation = \"relu\")(x)\n",
    "outputs = layers.Dense(25,activation = \"softmax\")(x)\n",
    "model = keras.Model(inputs = inputs, outputs = outputs)"
   ]
  },
  {
   "cell_type": "code",
   "execution_count": 33,
   "metadata": {},
   "outputs": [],
   "source": [
    "model.compile(optimizer = \"rmsprop\", loss = \"sparse_categorical_crossentropy\" ,metrics= [\"accuracy\"])"
   ]
  },
  {
   "cell_type": "code",
   "execution_count": 34,
   "metadata": {},
   "outputs": [
    {
     "name": "stdout",
     "output_type": "stream",
     "text": [
      "Epoch 1/5\n",
      "\u001b[1m187/187\u001b[0m \u001b[32m━━━━━━━━━━━━━━━━━━━━\u001b[0m\u001b[37m\u001b[0m \u001b[1m81s\u001b[0m 430ms/step - accuracy: 0.3372 - loss: 16.9186 - val_accuracy: 0.7768 - val_loss: 1.2365\n",
      "Epoch 2/5\n",
      "\u001b[1m187/187\u001b[0m \u001b[32m━━━━━━━━━━━━━━━━━━━━\u001b[0m\u001b[37m\u001b[0m \u001b[1m79s\u001b[0m 424ms/step - accuracy: 0.8987 - loss: 0.3915 - val_accuracy: 0.9296 - val_loss: 0.3201\n",
      "Epoch 3/5\n",
      "\u001b[1m187/187\u001b[0m \u001b[32m━━━━━━━━━━━━━━━━━━━━\u001b[0m\u001b[37m\u001b[0m \u001b[1m79s\u001b[0m 422ms/step - accuracy: 0.9475 - loss: 0.1968 - val_accuracy: 0.9491 - val_loss: 0.1937\n",
      "Epoch 4/5\n",
      "\u001b[1m187/187\u001b[0m \u001b[32m━━━━━━━━━━━━━━━━━━━━\u001b[0m\u001b[37m\u001b[0m \u001b[1m108s\u001b[0m 576ms/step - accuracy: 0.9528 - loss: 0.1877 - val_accuracy: 0.9653 - val_loss: 0.1236\n",
      "Epoch 5/5\n",
      "\u001b[1m187/187\u001b[0m \u001b[32m━━━━━━━━━━━━━━━━━━━━\u001b[0m\u001b[37m\u001b[0m \u001b[1m82s\u001b[0m 437ms/step - accuracy: 0.9619 - loss: 0.2082 - val_accuracy: 0.9642 - val_loss: 0.1469\n"
     ]
    },
    {
     "data": {
      "text/plain": [
       "<keras.src.callbacks.history.History at 0x18f23cbc9e0>"
      ]
     },
     "execution_count": 34,
     "metadata": {},
     "output_type": "execute_result"
    }
   ],
   "source": [
    "# Train the model\n",
    "model.fit(train_data,epochs = 5,validation_data = validation_data)"
   ]
  },
  {
   "cell_type": "code",
   "execution_count": 35,
   "metadata": {},
   "outputs": [
    {
     "name": "stdout",
     "output_type": "stream",
     "text": [
      "\u001b[1m24/24\u001b[0m \u001b[32m━━━━━━━━━━━━━━━━━━━━\u001b[0m\u001b[37m\u001b[0m \u001b[1m3s\u001b[0m 131ms/step - accuracy: 0.9538 - loss: 0.1411\n",
      "Test Loss: 0.141566202044487\n",
      "Test Accuracy: 0.9613375067710876\n"
     ]
    }
   ],
   "source": [
    "#Evaluate the model\n",
    "test_loss, test_accuracy = model.evaluate(test_data)\n",
    "print(f'Test Loss: {test_loss}')\n",
    "print(f'Test Accuracy: {test_accuracy}')"
   ]
  },
  {
   "cell_type": "code",
   "execution_count": 36,
   "metadata": {},
   "outputs": [
    {
     "name": "stdout",
     "output_type": "stream",
     "text": [
      "\u001b[1m2/2\u001b[0m \u001b[32m━━━━━━━━━━━━━━━━━━━━\u001b[0m\u001b[37m\u001b[0m \u001b[1m0s\u001b[0m 75ms/step\n",
      "\u001b[1m2/2\u001b[0m \u001b[32m━━━━━━━━━━━━━━━━━━━━\u001b[0m\u001b[37m\u001b[0m \u001b[1m0s\u001b[0m 23ms/step \n",
      "\u001b[1m2/2\u001b[0m \u001b[32m━━━━━━━━━━━━━━━━━━━━\u001b[0m\u001b[37m\u001b[0m \u001b[1m0s\u001b[0m 26ms/step \n",
      "\u001b[1m2/2\u001b[0m \u001b[32m━━━━━━━━━━━━━━━━━━━━\u001b[0m\u001b[37m\u001b[0m \u001b[1m0s\u001b[0m 30ms/step \n",
      "\u001b[1m2/2\u001b[0m \u001b[32m━━━━━━━━━━━━━━━━━━━━\u001b[0m\u001b[37m\u001b[0m \u001b[1m0s\u001b[0m 25ms/step \n",
      "\u001b[1m2/2\u001b[0m \u001b[32m━━━━━━━━━━━━━━━━━━━━\u001b[0m\u001b[37m\u001b[0m \u001b[1m0s\u001b[0m 26ms/step \n",
      "\u001b[1m2/2\u001b[0m \u001b[32m━━━━━━━━━━━━━━━━━━━━\u001b[0m\u001b[37m\u001b[0m \u001b[1m0s\u001b[0m 24ms/step \n",
      "\u001b[1m2/2\u001b[0m \u001b[32m━━━━━━━━━━━━━━━━━━━━\u001b[0m\u001b[37m\u001b[0m \u001b[1m0s\u001b[0m 26ms/step \n",
      "\u001b[1m2/2\u001b[0m \u001b[32m━━━━━━━━━━━━━━━━━━━━\u001b[0m\u001b[37m\u001b[0m \u001b[1m0s\u001b[0m 27ms/step \n",
      "\u001b[1m2/2\u001b[0m \u001b[32m━━━━━━━━━━━━━━━━━━━━\u001b[0m\u001b[37m\u001b[0m \u001b[1m0s\u001b[0m 26ms/step \n",
      "\u001b[1m2/2\u001b[0m \u001b[32m━━━━━━━━━━━━━━━━━━━━\u001b[0m\u001b[37m\u001b[0m \u001b[1m0s\u001b[0m 27ms/step \n",
      "\u001b[1m2/2\u001b[0m \u001b[32m━━━━━━━━━━━━━━━━━━━━\u001b[0m\u001b[37m\u001b[0m \u001b[1m0s\u001b[0m 26ms/step \n",
      "\u001b[1m2/2\u001b[0m \u001b[32m━━━━━━━━━━━━━━━━━━━━\u001b[0m\u001b[37m\u001b[0m \u001b[1m0s\u001b[0m 26ms/step \n",
      "\u001b[1m2/2\u001b[0m \u001b[32m━━━━━━━━━━━━━━━━━━━━\u001b[0m\u001b[37m\u001b[0m \u001b[1m0s\u001b[0m 25ms/step \n",
      "\u001b[1m2/2\u001b[0m \u001b[32m━━━━━━━━━━━━━━━━━━━━\u001b[0m\u001b[37m\u001b[0m \u001b[1m0s\u001b[0m 26ms/step \n",
      "\u001b[1m2/2\u001b[0m \u001b[32m━━━━━━━━━━━━━━━━━━━━\u001b[0m\u001b[37m\u001b[0m \u001b[1m0s\u001b[0m 26ms/step \n",
      "\u001b[1m2/2\u001b[0m \u001b[32m━━━━━━━━━━━━━━━━━━━━\u001b[0m\u001b[37m\u001b[0m \u001b[1m0s\u001b[0m 26ms/step \n",
      "\u001b[1m2/2\u001b[0m \u001b[32m━━━━━━━━━━━━━━━━━━━━\u001b[0m\u001b[37m\u001b[0m \u001b[1m0s\u001b[0m 26ms/step \n",
      "\u001b[1m2/2\u001b[0m \u001b[32m━━━━━━━━━━━━━━━━━━━━\u001b[0m\u001b[37m\u001b[0m \u001b[1m0s\u001b[0m 26ms/step \n",
      "\u001b[1m2/2\u001b[0m \u001b[32m━━━━━━━━━━━━━━━━━━━━\u001b[0m\u001b[37m\u001b[0m \u001b[1m0s\u001b[0m 27ms/step \n",
      "\u001b[1m2/2\u001b[0m \u001b[32m━━━━━━━━━━━━━━━━━━━━\u001b[0m\u001b[37m\u001b[0m \u001b[1m0s\u001b[0m 26ms/step \n",
      "\u001b[1m2/2\u001b[0m \u001b[32m━━━━━━━━━━━━━━━━━━━━\u001b[0m\u001b[37m\u001b[0m \u001b[1m0s\u001b[0m 24ms/step \n",
      "\u001b[1m2/2\u001b[0m \u001b[32m━━━━━━━━━━━━━━━━━━━━\u001b[0m\u001b[37m\u001b[0m \u001b[1m0s\u001b[0m 26ms/step \n",
      "\u001b[1m2/2\u001b[0m \u001b[32m━━━━━━━━━━━━━━━━━━━━\u001b[0m\u001b[37m\u001b[0m \u001b[1m0s\u001b[0m 20ms/step \n",
      "                precision    recall  f1-score   support\n",
      "\n",
      "     Adialer.C       1.00      1.00      1.00        13\n",
      "     Agent.FYI       1.00      1.00      1.00        13\n",
      "     Allaple.A       1.00      1.00      1.00       296\n",
      "     Allaple.L       1.00      1.00      1.00       160\n",
      " Alueron.gen!J       1.00      1.00      1.00        21\n",
      "     Autorun.K       0.00      0.00      0.00        12\n",
      "       C2LOP.P       0.80      1.00      0.89        16\n",
      "   C2LOP.gen!g       0.83      0.95      0.88        20\n",
      "Dialplatform.B       1.00      1.00      1.00        19\n",
      "     Dontovo.A       1.00      1.00      1.00        17\n",
      "      Fakerean       1.00      0.97      0.99        39\n",
      " Instantaccess       1.00      1.00      1.00        44\n",
      "    Lolyda.AA1       0.88      1.00      0.94        22\n",
      "    Lolyda.AA2       1.00      0.89      0.94        19\n",
      "    Lolyda.AA3       1.00      1.00      1.00        13\n",
      "     Lolyda.AT       1.00      0.94      0.97        17\n",
      "   Malex.gen!J       0.94      1.00      0.97        15\n",
      " Obfuscator.AD       1.00      1.00      1.00        15\n",
      "      Rbot!gen       1.00      1.00      1.00        17\n",
      "    Skintrim.N       1.00      1.00      1.00         8\n",
      " Swizzor.gen!E       0.55      0.86      0.67        14\n",
      " Swizzor.gen!I       1.00      0.07      0.13        14\n",
      "         VB.AT       0.95      0.98      0.96        42\n",
      "    Wintrim.BX       1.00      0.73      0.84        11\n",
      "       Yuner.A       0.87      1.00      0.93        80\n",
      "\n",
      "      accuracy                           0.96       957\n",
      "     macro avg       0.91      0.90      0.88       957\n",
      "  weighted avg       0.96      0.96      0.95       957\n",
      "\n"
     ]
    },
    {
     "name": "stderr",
     "output_type": "stream",
     "text": [
      "c:\\Users\\alwin\\Desktop\\AI_for_cyber\\Malware_Classification_Using_CNN\\.cyber\\Lib\\site-packages\\sklearn\\metrics\\_classification.py:1531: UndefinedMetricWarning: Precision is ill-defined and being set to 0.0 in labels with no predicted samples. Use `zero_division` parameter to control this behavior.\n",
      "  _warn_prf(average, modifier, f\"{metric.capitalize()} is\", len(result))\n",
      "c:\\Users\\alwin\\Desktop\\AI_for_cyber\\Malware_Classification_Using_CNN\\.cyber\\Lib\\site-packages\\sklearn\\metrics\\_classification.py:1531: UndefinedMetricWarning: Precision is ill-defined and being set to 0.0 in labels with no predicted samples. Use `zero_division` parameter to control this behavior.\n",
      "  _warn_prf(average, modifier, f\"{metric.capitalize()} is\", len(result))\n",
      "c:\\Users\\alwin\\Desktop\\AI_for_cyber\\Malware_Classification_Using_CNN\\.cyber\\Lib\\site-packages\\sklearn\\metrics\\_classification.py:1531: UndefinedMetricWarning: Precision is ill-defined and being set to 0.0 in labels with no predicted samples. Use `zero_division` parameter to control this behavior.\n",
      "  _warn_prf(average, modifier, f\"{metric.capitalize()} is\", len(result))\n"
     ]
    }
   ],
   "source": [
    "# Generate Classification Report\n",
    "from sklearn.metrics import classification_report\n",
    "\n",
    "y_true = []\n",
    "y_pred = []\n",
    "\n",
    "for images, labels in test_data:\n",
    "    predictions = model.predict(images)\n",
    "    y_true.extend(labels.numpy())\n",
    "    y_pred.extend(np.argmax(predictions, axis=1))\n",
    "\n",
    "# Generate classification report\n",
    "report = classification_report(y_true, y_pred, target_names=class_labels)\n",
    "print(report)"
   ]
  },
  {
   "cell_type": "code",
   "execution_count": 37,
   "metadata": {},
   "outputs": [
    {
     "name": "stderr",
     "output_type": "stream",
     "text": [
      "WARNING:absl:You are saving your model as an HDF5 file via `model.save()` or `keras.saving.save_model(model)`. This file format is considered legacy. We recommend using instead the native Keras format, e.g. `model.save('my_model.keras')` or `keras.saving.save_model(model, 'my_model.keras')`. \n"
     ]
    }
   ],
   "source": [
    "#Save the model\n",
    "model.save('my_model.h5')"
   ]
  },
  {
   "cell_type": "code",
   "execution_count": 38,
   "metadata": {},
   "outputs": [
    {
     "name": "stdout",
     "output_type": "stream",
     "text": [
      "\u001b[1m1/1\u001b[0m \u001b[32m━━━━━━━━━━━━━━━━━━━━\u001b[0m\u001b[37m\u001b[0m \u001b[1m0s\u001b[0m 19ms/step\n",
      "Predicted Class: Allaple.A\n"
     ]
    }
   ],
   "source": [
    "import numpy as np\n",
    "from PIL import Image\n",
    "import tensorflow as tf\n",
    "\n",
    "# Prediction Function\n",
    "def make_prediction(img, model, class_labels):\n",
    "    if isinstance(img, np.ndarray):\n",
    "        img = Image.fromarray(img)\n",
    "    \n",
    "    img = img.resize((200, 200))\n",
    "    img = np.array(img)\n",
    "    \n",
    "    \n",
    "    if img.ndim == 2:\n",
    "        img = np.stack((img,) * 3, axis=-1)\n",
    "    elif img.shape[-1] == 1:\n",
    "        img = np.concatenate([img] * 3, axis=-1)\n",
    "    \n",
    "    img = img / 255.0\n",
    "    \n",
    "    \n",
    "    input_img = np.expand_dims(img, axis=0)\n",
    "    \n",
    "   \n",
    "    predictions = model.predict(input_img)\n",
    "    \n",
    "    predicted_class_index = np.argmax(predictions, axis=1)[0]\n",
    "    predicted_class_label = class_labels[predicted_class_index]\n",
    "    \n",
    "    return predictions, predicted_class_label\n",
    "\n",
    "\n",
    "image_path = 'malimg_dataset\\\\train\\\\Adialer.C\\\\00bb6b6a7be5402fcfce453630bfff19.png'\n",
    "img = Image.open(image_path)\n",
    "\n",
    "predictions, predicted_class = make_prediction(img, model, class_labels)\n",
    "\n",
    "print(f\"Predicted Class: {predicted_class}\")"
   ]
  }
 ],
 "metadata": {
  "kernelspec": {
   "display_name": ".cyber",
   "language": "python",
   "name": "python3"
  },
  "language_info": {
   "codemirror_mode": {
    "name": "ipython",
    "version": 3
   },
   "file_extension": ".py",
   "mimetype": "text/x-python",
   "name": "python",
   "nbconvert_exporter": "python",
   "pygments_lexer": "ipython3",
   "version": "3.12.3"
  }
 },
 "nbformat": 4,
 "nbformat_minor": 2
}
