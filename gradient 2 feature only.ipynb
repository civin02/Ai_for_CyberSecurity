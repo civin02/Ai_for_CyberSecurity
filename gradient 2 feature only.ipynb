{
 "cells": [
  {
   "cell_type": "markdown",
   "metadata": {},
   "source": [
    "In this code  gradient descent and backpropagation to train a neural network on a NSL-KDD dataset."
   ]
  },
  {
   "cell_type": "code",
   "execution_count": 2,
   "metadata": {},
   "outputs": [
    {
     "data": {
      "text/html": [
       "<div>\n",
       "<style scoped>\n",
       "    .dataframe tbody tr th:only-of-type {\n",
       "        vertical-align: middle;\n",
       "    }\n",
       "\n",
       "    .dataframe tbody tr th {\n",
       "        vertical-align: top;\n",
       "    }\n",
       "\n",
       "    .dataframe thead th {\n",
       "        text-align: right;\n",
       "    }\n",
       "</style>\n",
       "<table border=\"1\" class=\"dataframe\">\n",
       "  <thead>\n",
       "    <tr style=\"text-align: right;\">\n",
       "      <th></th>\n",
       "      <th>duration</th>\n",
       "      <th>protocol_type</th>\n",
       "      <th>service</th>\n",
       "      <th>flag</th>\n",
       "      <th>src_bytes</th>\n",
       "      <th>dst_bytes</th>\n",
       "      <th>land</th>\n",
       "      <th>wrong_fragment</th>\n",
       "      <th>urgent</th>\n",
       "      <th>hot</th>\n",
       "      <th>...</th>\n",
       "      <th>dst_host_srv_count</th>\n",
       "      <th>dst_host_same_srv_rate</th>\n",
       "      <th>dst_host_diff_srv_rate</th>\n",
       "      <th>dst_host_same_src_port_rate</th>\n",
       "      <th>dst_host_srv_diff_host_rate</th>\n",
       "      <th>dst_host_serror_rate</th>\n",
       "      <th>dst_host_srv_serror_rate</th>\n",
       "      <th>dst_host_rerror_rate</th>\n",
       "      <th>dst_host_srv_rerror_rate</th>\n",
       "      <th>class</th>\n",
       "    </tr>\n",
       "  </thead>\n",
       "  <tbody>\n",
       "    <tr>\n",
       "      <th>0</th>\n",
       "      <td>0.0</td>\n",
       "      <td>tcp</td>\n",
       "      <td>ftp_data</td>\n",
       "      <td>SF</td>\n",
       "      <td>491.0</td>\n",
       "      <td>0.0</td>\n",
       "      <td>0</td>\n",
       "      <td>0.0</td>\n",
       "      <td>0.0</td>\n",
       "      <td>0.0</td>\n",
       "      <td>...</td>\n",
       "      <td>25.0</td>\n",
       "      <td>0.17</td>\n",
       "      <td>0.03</td>\n",
       "      <td>0.17</td>\n",
       "      <td>0.00</td>\n",
       "      <td>0.00</td>\n",
       "      <td>0.00</td>\n",
       "      <td>0.05</td>\n",
       "      <td>0.00</td>\n",
       "      <td>normal</td>\n",
       "    </tr>\n",
       "    <tr>\n",
       "      <th>1</th>\n",
       "      <td>0.0</td>\n",
       "      <td>udp</td>\n",
       "      <td>other</td>\n",
       "      <td>SF</td>\n",
       "      <td>146.0</td>\n",
       "      <td>0.0</td>\n",
       "      <td>0</td>\n",
       "      <td>0.0</td>\n",
       "      <td>0.0</td>\n",
       "      <td>0.0</td>\n",
       "      <td>...</td>\n",
       "      <td>1.0</td>\n",
       "      <td>0.00</td>\n",
       "      <td>0.60</td>\n",
       "      <td>0.88</td>\n",
       "      <td>0.00</td>\n",
       "      <td>0.00</td>\n",
       "      <td>0.00</td>\n",
       "      <td>0.00</td>\n",
       "      <td>0.00</td>\n",
       "      <td>normal</td>\n",
       "    </tr>\n",
       "    <tr>\n",
       "      <th>2</th>\n",
       "      <td>0.0</td>\n",
       "      <td>tcp</td>\n",
       "      <td>private</td>\n",
       "      <td>S0</td>\n",
       "      <td>0.0</td>\n",
       "      <td>0.0</td>\n",
       "      <td>0</td>\n",
       "      <td>0.0</td>\n",
       "      <td>0.0</td>\n",
       "      <td>0.0</td>\n",
       "      <td>...</td>\n",
       "      <td>26.0</td>\n",
       "      <td>0.10</td>\n",
       "      <td>0.05</td>\n",
       "      <td>0.00</td>\n",
       "      <td>0.00</td>\n",
       "      <td>1.00</td>\n",
       "      <td>1.00</td>\n",
       "      <td>0.00</td>\n",
       "      <td>0.00</td>\n",
       "      <td>anomaly</td>\n",
       "    </tr>\n",
       "    <tr>\n",
       "      <th>3</th>\n",
       "      <td>0.0</td>\n",
       "      <td>tcp</td>\n",
       "      <td>http</td>\n",
       "      <td>SF</td>\n",
       "      <td>232.0</td>\n",
       "      <td>8153.0</td>\n",
       "      <td>0</td>\n",
       "      <td>0.0</td>\n",
       "      <td>0.0</td>\n",
       "      <td>0.0</td>\n",
       "      <td>...</td>\n",
       "      <td>255.0</td>\n",
       "      <td>1.00</td>\n",
       "      <td>0.00</td>\n",
       "      <td>0.03</td>\n",
       "      <td>0.04</td>\n",
       "      <td>0.03</td>\n",
       "      <td>0.01</td>\n",
       "      <td>0.00</td>\n",
       "      <td>0.01</td>\n",
       "      <td>normal</td>\n",
       "    </tr>\n",
       "    <tr>\n",
       "      <th>4</th>\n",
       "      <td>0.0</td>\n",
       "      <td>tcp</td>\n",
       "      <td>http</td>\n",
       "      <td>SF</td>\n",
       "      <td>199.0</td>\n",
       "      <td>420.0</td>\n",
       "      <td>0</td>\n",
       "      <td>0.0</td>\n",
       "      <td>0.0</td>\n",
       "      <td>0.0</td>\n",
       "      <td>...</td>\n",
       "      <td>255.0</td>\n",
       "      <td>1.00</td>\n",
       "      <td>0.00</td>\n",
       "      <td>0.00</td>\n",
       "      <td>0.00</td>\n",
       "      <td>0.00</td>\n",
       "      <td>0.00</td>\n",
       "      <td>0.00</td>\n",
       "      <td>0.00</td>\n",
       "      <td>normal</td>\n",
       "    </tr>\n",
       "  </tbody>\n",
       "</table>\n",
       "<p>5 rows × 42 columns</p>\n",
       "</div>"
      ],
      "text/plain": [
       "   duration protocol_type   service flag  src_bytes  dst_bytes  land  \\\n",
       "0       0.0           tcp  ftp_data   SF      491.0        0.0     0   \n",
       "1       0.0           udp     other   SF      146.0        0.0     0   \n",
       "2       0.0           tcp   private   S0        0.0        0.0     0   \n",
       "3       0.0           tcp      http   SF      232.0     8153.0     0   \n",
       "4       0.0           tcp      http   SF      199.0      420.0     0   \n",
       "\n",
       "   wrong_fragment  urgent  hot  ...  dst_host_srv_count  \\\n",
       "0             0.0     0.0  0.0  ...                25.0   \n",
       "1             0.0     0.0  0.0  ...                 1.0   \n",
       "2             0.0     0.0  0.0  ...                26.0   \n",
       "3             0.0     0.0  0.0  ...               255.0   \n",
       "4             0.0     0.0  0.0  ...               255.0   \n",
       "\n",
       "   dst_host_same_srv_rate  dst_host_diff_srv_rate  \\\n",
       "0                    0.17                    0.03   \n",
       "1                    0.00                    0.60   \n",
       "2                    0.10                    0.05   \n",
       "3                    1.00                    0.00   \n",
       "4                    1.00                    0.00   \n",
       "\n",
       "   dst_host_same_src_port_rate  dst_host_srv_diff_host_rate  \\\n",
       "0                         0.17                         0.00   \n",
       "1                         0.88                         0.00   \n",
       "2                         0.00                         0.00   \n",
       "3                         0.03                         0.04   \n",
       "4                         0.00                         0.00   \n",
       "\n",
       "   dst_host_serror_rate  dst_host_srv_serror_rate  dst_host_rerror_rate  \\\n",
       "0                  0.00                      0.00                  0.05   \n",
       "1                  0.00                      0.00                  0.00   \n",
       "2                  1.00                      1.00                  0.00   \n",
       "3                  0.03                      0.01                  0.00   \n",
       "4                  0.00                      0.00                  0.00   \n",
       "\n",
       "   dst_host_srv_rerror_rate    class  \n",
       "0                      0.00   normal  \n",
       "1                      0.00   normal  \n",
       "2                      0.00  anomaly  \n",
       "3                      0.01   normal  \n",
       "4                      0.00   normal  \n",
       "\n",
       "[5 rows x 42 columns]"
      ]
     },
     "execution_count": 2,
     "metadata": {},
     "output_type": "execute_result"
    }
   ],
   "source": [
    "#Loadig the dataset and displaying the first 5 rows\n",
    "import pandas as pd\n",
    "file_path = 'datasetkdd.csv'\n",
    "df = pd.read_csv(file_path)\n",
    "df.head()"
   ]
  },
  {
   "cell_type": "markdown",
   "metadata": {},
   "source": [
    "Here we are finding the relevant features using the mutual information and chi-square test this will give two features \n",
    "that are most relevant to the target variable."
   ]
  },
  {
   "cell_type": "markdown",
   "metadata": {},
   "source": [
    "First section we preprocess the dataset to apply the mutual information and chi-squre test"
   ]
  },
  {
   "cell_type": "code",
   "execution_count": 3,
   "metadata": {},
   "outputs": [
    {
     "name": "stdout",
     "output_type": "stream",
     "text": [
      "\n",
      "Mutual Information Scores:\n",
      "src_bytes                      0.542678\n",
      "dst_bytes                      0.437492\n",
      "service                        0.434002\n",
      "flag                           0.338065\n",
      "same_srv_rate                  0.328913\n",
      "diff_srv_rate                  0.320513\n",
      "dst_host_srv_count             0.302225\n",
      "dst_host_same_srv_rate         0.278945\n",
      "logged_in                      0.264642\n",
      "dst_host_diff_srv_rate         0.259576\n",
      "dst_host_serror_rate           0.239895\n",
      "serror_rate                    0.235771\n",
      "count                          0.234296\n",
      "dst_host_srv_serror_rate       0.232838\n",
      "srv_serror_rate                0.223356\n",
      "dst_host_srv_diff_host_rate    0.173179\n",
      "dst_host_count                 0.137067\n",
      "dst_host_same_src_port_rate    0.129467\n",
      "srv_diff_host_rate             0.098674\n",
      "dst_host_srv_rerror_rate       0.064341\n",
      "rerror_rate                    0.055661\n",
      "protocol_type                  0.054081\n",
      "dst_host_rerror_rate           0.052164\n",
      "srv_rerror_rate                0.052009\n",
      "srv_count                      0.044286\n",
      "duration                       0.024267\n",
      "hot                            0.010478\n",
      "wrong_fragment                 0.004428\n",
      "num_compromised                0.003885\n",
      "num_access_files               0.003094\n",
      "num_root                       0.002128\n",
      "is_host_login                  0.001704\n",
      "num_shells                     0.001590\n",
      "num_failed_logins              0.001519\n",
      "su_attempted                   0.001207\n",
      "is_guest_login                 0.001143\n",
      "num_outbound_cmds              0.000909\n",
      "num_file_creations             0.000000\n",
      "root_shell                     0.000000\n",
      "urgent                         0.000000\n",
      "land                           0.000000\n",
      "dtype: float64\n",
      "\n",
      "Chi-Square Test Scores:\n",
      "service                        111750.974116\n",
      "flag                            65087.683360\n",
      "logged_in                       39119.530488\n",
      "dst_host_srv_serror_rate        38464.712814\n",
      "srv_serror_rate                 37456.445349\n",
      "serror_rate                     37344.348473\n",
      "dst_host_serror_rate            37054.149382\n",
      "dst_host_srv_count              28933.402371\n",
      "dst_host_same_srv_rate          24862.638424\n",
      "same_srv_rate                   21135.261860\n",
      "count                           13060.250235\n",
      "rerror_rate                     11210.246866\n",
      "srv_rerror_rate                 11209.389976\n",
      "dst_host_srv_rerror_rate        10868.119504\n",
      "dst_host_rerror_rate            10271.958269\n",
      "dst_host_count                   4287.389075\n",
      "dst_host_diff_srv_rate           3982.051701\n",
      "diff_srv_rate                    3867.945157\n",
      "protocol_type                    1851.042710\n",
      "srv_diff_host_rate               1308.592215\n",
      "wrong_fragment                    927.870960\n",
      "dst_host_same_src_port_rate       643.426485\n",
      "dst_host_srv_diff_host_rate       162.473749\n",
      "duration                          152.914728\n",
      "num_failed_logins                  65.487919\n",
      "su_attempted                       63.439806\n",
      "num_access_files                   46.965461\n",
      "root_shell                         26.898397\n",
      "srv_count                          13.158461\n",
      "land                               11.541946\n",
      "num_file_creations                 10.201610\n",
      "is_host_login                       9.116169\n",
      "num_root                            4.661974\n",
      "num_compromised                     3.771507\n",
      "hot                                 2.922300\n",
      "src_bytes                           2.331720\n",
      "is_guest_login                      2.161626\n",
      "urgent                              1.378206\n",
      "dst_bytes                           1.168375\n",
      "num_shells                          0.002905\n",
      "num_outbound_cmds                        NaN\n",
      "dtype: float64\n",
      "\n",
      "Top 18 features based on combined Mutual Information and Chi-Square scores:\n",
      "Index(['service', 'flag'], dtype='object')\n"
     ]
    },
    {
     "data": {
      "text/plain": [
       "<Figure size 1000x800 with 0 Axes>"
      ]
     },
     "metadata": {},
     "output_type": "display_data"
    },
    {
     "name": "stdout",
     "output_type": "stream",
     "text": [
      "\n",
      "Final selected features after removing correlated ones:\n",
      "Index(['service', 'flag'], dtype='object')\n",
      "\n",
      "Features selected for training:\n",
      "['service', 'flag']\n",
      "\n",
      "Chi-Square scores for the final selected features:\n",
      "service    111750.974116\n",
      "flag        65087.683360\n",
      "dtype: float64\n"
     ]
    }
   ],
   "source": [
    "from sklearn.preprocessing import LabelEncoder, MinMaxScaler\n",
    "from sklearn.feature_selection import mutual_info_classif, chi2\n",
    "import matplotlib.pyplot as plt\n",
    "import numpy as np\n",
    "\n",
    "X = df.drop(columns=['class'])\n",
    "y = df['class']\n",
    "\n",
    "label_encoder = LabelEncoder()\n",
    "y_encoded = label_encoder.fit_transform(y)\n",
    "\n",
    "# numeric and categorical features\n",
    "numeric_features = X.select_dtypes(include=[np.number]).columns.tolist()\n",
    "categorical_features = X.select_dtypes(include=[object]).columns.tolist()\n",
    "for col in categorical_features:\n",
    "    X[col] = label_encoder.fit_transform(X[col])\n",
    "\n",
    "scaler = MinMaxScaler()\n",
    "X[numeric_features] = scaler.fit_transform(X[numeric_features])\n",
    "\n",
    "# One-hot encode categorical features \n",
    "X_categorical = pd.get_dummies(X, drop_first=True)  \n",
    "\n",
    "# Mutual Information Scores\n",
    "mi_scores = mutual_info_classif(X, y_encoded, random_state=0)\n",
    "mi_scores = pd.Series(mi_scores, index=X.columns).sort_values(ascending=False)\n",
    "print(\"\\nMutual Information Scores:\")\n",
    "print(mi_scores)\n",
    "\n",
    "# Chi-Square Test Scores\n",
    "chi2_scores, p_values = chi2(X_categorical, y_encoded)  # Use one-hot encoded features\n",
    "chi2_scores = pd.Series(chi2_scores, index=X_categorical.columns).sort_values(ascending=False)\n",
    "print(\"\\nChi-Square Test Scores:\")\n",
    "print(chi2_scores)\n",
    "\n",
    "# Combine both MI and Chi-Square scores\n",
    "combined_scores = mi_scores.add(chi2_scores, fill_value=0)  \n",
    "combined_scores = combined_scores.sort_values(ascending=False)\n",
    "\n",
    "top_featuress = combined_scores.index[:2]\n",
    "print(\"\\nTop 18 features based on combined Mutual Information and Chi-Square scores:\")\n",
    "print(top_featuress)\n",
    "\n",
    "X_top_18 = X[top_featuress]\n",
    "\n",
    "plt.figure(figsize=(10, 8))\n",
    "corr_matrix = X_top_18.corr()\n",
    "#plt.title(\"Correlation Matrix - Top 18 Features\")\n",
    "plt.show()\n",
    "threshold = 0.9\n",
    "upper_tri = corr_matrix.where(np.triu(np.ones(corr_matrix.shape), k=1).astype(bool))\n",
    "to_drop = [column for column in upper_tri.columns if any(upper_tri[column] > threshold)]\n",
    "\n",
    "# Final selected features after removing correlated ones\n",
    "final_selected_features = top_featuress.drop(to_drop)\n",
    "print(\"\\nFinal selected features after removing correlated ones:\")\n",
    "print(final_selected_features)\n",
    "\n",
    "# List of features selected for training\n",
    "selected_list = final_selected_features.tolist()\n",
    "print(\"\\nFeatures selected for training:\")\n",
    "print(selected_list)\n",
    "\n",
    "# Print Chi-Square scores for the final selected features\n",
    "final_chi2_scores = chi2_scores[final_selected_features]\n",
    "print(\"\\nChi-Square scores for the final selected features:\")\n",
    "print(final_chi2_scores)\n"
   ]
  },
  {
   "cell_type": "markdown",
   "metadata": {},
   "source": [
    "Selected two features from above test and select those features for model testing and training"
   ]
  },
  {
   "cell_type": "code",
   "execution_count": 4,
   "metadata": {},
   "outputs": [
    {
     "name": "stdout",
     "output_type": "stream",
     "text": [
      "\n",
      " after preprocessing\n"
     ]
    },
    {
     "data": {
      "text/html": [
       "<div>\n",
       "<style scoped>\n",
       "    .dataframe tbody tr th:only-of-type {\n",
       "        vertical-align: middle;\n",
       "    }\n",
       "\n",
       "    .dataframe tbody tr th {\n",
       "        vertical-align: top;\n",
       "    }\n",
       "\n",
       "    .dataframe thead th {\n",
       "        text-align: right;\n",
       "    }\n",
       "</style>\n",
       "<table border=\"1\" class=\"dataframe\">\n",
       "  <thead>\n",
       "    <tr style=\"text-align: right;\">\n",
       "      <th></th>\n",
       "      <th>service</th>\n",
       "      <th>flag</th>\n",
       "      <th>class</th>\n",
       "    </tr>\n",
       "  </thead>\n",
       "  <tbody>\n",
       "    <tr>\n",
       "      <th>0</th>\n",
       "      <td>20</td>\n",
       "      <td>9</td>\n",
       "      <td>0</td>\n",
       "    </tr>\n",
       "    <tr>\n",
       "      <th>1</th>\n",
       "      <td>44</td>\n",
       "      <td>9</td>\n",
       "      <td>0</td>\n",
       "    </tr>\n",
       "    <tr>\n",
       "      <th>2</th>\n",
       "      <td>49</td>\n",
       "      <td>5</td>\n",
       "      <td>1</td>\n",
       "    </tr>\n",
       "    <tr>\n",
       "      <th>3</th>\n",
       "      <td>24</td>\n",
       "      <td>9</td>\n",
       "      <td>0</td>\n",
       "    </tr>\n",
       "    <tr>\n",
       "      <th>4</th>\n",
       "      <td>24</td>\n",
       "      <td>9</td>\n",
       "      <td>0</td>\n",
       "    </tr>\n",
       "  </tbody>\n",
       "</table>\n",
       "</div>"
      ],
      "text/plain": [
       "   service  flag  class\n",
       "0       20     9      0\n",
       "1       44     9      0\n",
       "2       49     5      1\n",
       "3       24     9      0\n",
       "4       24     9      0"
      ]
     },
     "execution_count": 4,
     "metadata": {},
     "output_type": "execute_result"
    }
   ],
   "source": [
    "selected_features = ['service', 'flag']\n",
    "\n",
    "X = df[selected_features].copy()\n",
    "y = df['class'].apply(lambda x: 1 if x == 'anomaly' else 0) \n",
    "\n",
    "label_encoder = LabelEncoder()\n",
    "X['flag'] = label_encoder.fit_transform(X['flag'])\n",
    "X['service'] = label_encoder.fit_transform(X['service'])\n",
    "X['class'] = y\n",
    "print(\"\\n after preprocessing\")\n",
    "X.head() "
   ]
  },
  {
   "cell_type": "markdown",
   "metadata": {},
   "source": [
    "Spliting the model into 70% training and 30% for testing "
   ]
  },
  {
   "cell_type": "code",
   "execution_count": 5,
   "metadata": {},
   "outputs": [],
   "source": [
    "from sklearn.model_selection import train_test_split\n",
    "\n",
    "X_train, X_test, y_train, y_test = train_test_split(X.drop(columns='class'), y, test_size=0.3, random_state=42)\n"
   ]
  },
  {
   "cell_type": "markdown",
   "metadata": {},
   "source": [
    "The below code demonstrates using  StandardScaler standardize features in the dataset. It transforms the training data and returns the scaled data back into DataFrames it will help for easier analysis."
   ]
  },
  {
   "cell_type": "code",
   "execution_count": 6,
   "metadata": {},
   "outputs": [
    {
     "name": "stdout",
     "output_type": "stream",
     "text": [
      "\n",
      "Scaled training features:\n"
     ]
    },
    {
     "data": {
      "text/html": [
       "<div>\n",
       "<style scoped>\n",
       "    .dataframe tbody tr th:only-of-type {\n",
       "        vertical-align: middle;\n",
       "    }\n",
       "\n",
       "    .dataframe tbody tr th {\n",
       "        vertical-align: top;\n",
       "    }\n",
       "\n",
       "    .dataframe thead th {\n",
       "        text-align: right;\n",
       "    }\n",
       "</style>\n",
       "<table border=\"1\" class=\"dataframe\">\n",
       "  <thead>\n",
       "    <tr style=\"text-align: right;\">\n",
       "      <th></th>\n",
       "      <th>service</th>\n",
       "      <th>flag</th>\n",
       "    </tr>\n",
       "  </thead>\n",
       "  <tbody>\n",
       "    <tr>\n",
       "      <th>0</th>\n",
       "      <td>1.371046</td>\n",
       "      <td>0.734785</td>\n",
       "    </tr>\n",
       "    <tr>\n",
       "      <th>1</th>\n",
       "      <td>0.142434</td>\n",
       "      <td>-0.704337</td>\n",
       "    </tr>\n",
       "    <tr>\n",
       "      <th>2</th>\n",
       "      <td>-0.471872</td>\n",
       "      <td>0.734785</td>\n",
       "    </tr>\n",
       "    <tr>\n",
       "      <th>3</th>\n",
       "      <td>-0.471872</td>\n",
       "      <td>0.734785</td>\n",
       "    </tr>\n",
       "    <tr>\n",
       "      <th>4</th>\n",
       "      <td>-0.471872</td>\n",
       "      <td>0.734785</td>\n",
       "    </tr>\n",
       "  </tbody>\n",
       "</table>\n",
       "</div>"
      ],
      "text/plain": [
       "    service      flag\n",
       "0  1.371046  0.734785\n",
       "1  0.142434 -0.704337\n",
       "2 -0.471872  0.734785\n",
       "3 -0.471872  0.734785\n",
       "4 -0.471872  0.734785"
      ]
     },
     "execution_count": 6,
     "metadata": {},
     "output_type": "execute_result"
    }
   ],
   "source": [
    "from sklearn.preprocessing import StandardScaler\n",
    "scaler = StandardScaler()\n",
    "X_train_scaled = scaler.fit_transform(X_train)\n",
    "X_test_scaled = scaler.transform(X_test)\n",
    "\n",
    "# Convert the scaled arrays back to DataFrames\n",
    "X_train_scaled = pd.DataFrame(X_train_scaled, columns=X_train.columns)\n",
    "X_test_scaled = pd.DataFrame(X_test_scaled, columns=X_test.columns)\n",
    "\n",
    "print(\"\\nScaled training features:\")\n",
    "X_train_scaled.head()"
   ]
  },
  {
   "cell_type": "markdown",
   "metadata": {},
   "source": [
    "This code defines a feedforward neural network model using TensorFlow and Keras libraries. The model consists of three layers an input layer, two hidden layers and  output layer. It uses ReLU activation function,sigmoid activation function a stochastic gradient descent optimizer to minimize binary crossentropy loss."
   ]
  },
  {
   "cell_type": "code",
   "execution_count": 57,
   "metadata": {},
   "outputs": [],
   "source": [
    "import tensorflow as tf\n",
    "from tensorflow import keras\n",
    "from tensorflow.keras import layers\n",
    "\n",
    "def create_model(input_shape):\n",
    "    model = keras.Sequential()\n",
    "    \n",
    "    # Input layer and first hidden layer\n",
    "    model.add(layers.Dense(64, activation='relu', input_shape=input_shape))\n",
    "    \n",
    "    # Second hidden layer\n",
    "    model.add(layers.Dense(32, activation='relu'))\n",
    "    \n",
    "    # Output layer\n",
    "    model.add(layers.Dense(1, activation='sigmoid'))  \n",
    "    \n",
    "    return model\n",
    "\n",
    "input_shape = (X_train_scaled.shape[1],) \n",
    "model = create_model(input_shape)\n",
    "\n",
    "# Compile\n",
    "model.compile(optimizer='sgd',              # Stochastic Gradient Descent\n",
    "              loss='binary_crossentropy',  \n",
    "              metrics=['accuracy'])        \n"
   ]
  },
  {
   "cell_type": "markdown",
   "metadata": {},
   "source": [
    "This code will create two plots one for the models loss over time and one for the models accuracy over time. The plots will show the training and validation loss and accuracy."
   ]
  },
  {
   "cell_type": "code",
   "execution_count": 58,
   "metadata": {},
   "outputs": [
    {
     "name": "stdout",
     "output_type": "stream",
     "text": [
      "Epoch 1/50\n",
      "\u001b[1m650/650\u001b[0m \u001b[32m━━━━━━━━━━━━━━━━━━━━\u001b[0m\u001b[37m\u001b[0m \u001b[1m2s\u001b[0m 2ms/step - accuracy: 0.8327 - loss: 0.5765 - val_accuracy: 0.8568 - val_loss: 0.4076\n",
      "Epoch 2/50\n",
      "\u001b[1m650/650\u001b[0m \u001b[32m━━━━━━━━━━━━━━━━━━━━\u001b[0m\u001b[37m\u001b[0m \u001b[1m1s\u001b[0m 1ms/step - accuracy: 0.8562 - loss: 0.3995 - val_accuracy: 0.8567 - val_loss: 0.3788\n",
      "Epoch 3/50\n",
      "\u001b[1m650/650\u001b[0m \u001b[32m━━━━━━━━━━━━━━━━━━━━\u001b[0m\u001b[37m\u001b[0m \u001b[1m1s\u001b[0m 1ms/step - accuracy: 0.8575 - loss: 0.3742 - val_accuracy: 0.8568 - val_loss: 0.3629\n",
      "Epoch 4/50\n",
      "\u001b[1m650/650\u001b[0m \u001b[32m━━━━━━━━━━━━━━━━━━━━\u001b[0m\u001b[37m\u001b[0m \u001b[1m1s\u001b[0m 1ms/step - accuracy: 0.8570 - loss: 0.3593 - val_accuracy: 0.8563 - val_loss: 0.3494\n",
      "Epoch 5/50\n",
      "\u001b[1m650/650\u001b[0m \u001b[32m━━━━━━━━━━━━━━━━━━━━\u001b[0m\u001b[37m\u001b[0m \u001b[1m1s\u001b[0m 1ms/step - accuracy: 0.8573 - loss: 0.3440 - val_accuracy: 0.8544 - val_loss: 0.3386\n",
      "Epoch 6/50\n",
      "\u001b[1m650/650\u001b[0m \u001b[32m━━━━━━━━━━━━━━━━━━━━\u001b[0m\u001b[37m\u001b[0m \u001b[1m1s\u001b[0m 1ms/step - accuracy: 0.8578 - loss: 0.3302 - val_accuracy: 0.8544 - val_loss: 0.3312\n",
      "Epoch 7/50\n",
      "\u001b[1m650/650\u001b[0m \u001b[32m━━━━━━━━━━━━━━━━━━━━\u001b[0m\u001b[37m\u001b[0m \u001b[1m1s\u001b[0m 1ms/step - accuracy: 0.8559 - loss: 0.3272 - val_accuracy: 0.8544 - val_loss: 0.3251\n",
      "Epoch 8/50\n",
      "\u001b[1m650/650\u001b[0m \u001b[32m━━━━━━━━━━━━━━━━━━━━\u001b[0m\u001b[37m\u001b[0m \u001b[1m1s\u001b[0m 1ms/step - accuracy: 0.8558 - loss: 0.3215 - val_accuracy: 0.8544 - val_loss: 0.3212\n",
      "Epoch 9/50\n",
      "\u001b[1m650/650\u001b[0m \u001b[32m━━━━━━━━━━━━━━━━━━━━\u001b[0m\u001b[37m\u001b[0m \u001b[1m1s\u001b[0m 1ms/step - accuracy: 0.8583 - loss: 0.3151 - val_accuracy: 0.8700 - val_loss: 0.3173\n",
      "Epoch 10/50\n",
      "\u001b[1m650/650\u001b[0m \u001b[32m━━━━━━━━━━━━━━━━━━━━\u001b[0m\u001b[37m\u001b[0m \u001b[1m1s\u001b[0m 1ms/step - accuracy: 0.8724 - loss: 0.3126 - val_accuracy: 0.8693 - val_loss: 0.3150\n",
      "Epoch 11/50\n",
      "\u001b[1m650/650\u001b[0m \u001b[32m━━━━━━━━━━━━━━━━━━━━\u001b[0m\u001b[37m\u001b[0m \u001b[1m1s\u001b[0m 1ms/step - accuracy: 0.8718 - loss: 0.3085 - val_accuracy: 0.8693 - val_loss: 0.3115\n",
      "Epoch 12/50\n",
      "\u001b[1m650/650\u001b[0m \u001b[32m━━━━━━━━━━━━━━━━━━━━\u001b[0m\u001b[37m\u001b[0m \u001b[1m1s\u001b[0m 1ms/step - accuracy: 0.8720 - loss: 0.3070 - val_accuracy: 0.8693 - val_loss: 0.3093\n",
      "Epoch 13/50\n",
      "\u001b[1m650/650\u001b[0m \u001b[32m━━━━━━━━━━━━━━━━━━━━\u001b[0m\u001b[37m\u001b[0m \u001b[1m1s\u001b[0m 1ms/step - accuracy: 0.8721 - loss: 0.3035 - val_accuracy: 0.8693 - val_loss: 0.3079\n",
      "Epoch 14/50\n",
      "\u001b[1m650/650\u001b[0m \u001b[32m━━━━━━━━━━━━━━━━━━━━\u001b[0m\u001b[37m\u001b[0m \u001b[1m1s\u001b[0m 1ms/step - accuracy: 0.8689 - loss: 0.3034 - val_accuracy: 0.8678 - val_loss: 0.3063\n",
      "Epoch 15/50\n",
      "\u001b[1m650/650\u001b[0m \u001b[32m━━━━━━━━━━━━━━━━━━━━\u001b[0m\u001b[37m\u001b[0m \u001b[1m1s\u001b[0m 1ms/step - accuracy: 0.8699 - loss: 0.3028 - val_accuracy: 0.8678 - val_loss: 0.3041\n",
      "Epoch 16/50\n",
      "\u001b[1m650/650\u001b[0m \u001b[32m━━━━━━━━━━━━━━━━━━━━\u001b[0m\u001b[37m\u001b[0m \u001b[1m1s\u001b[0m 1ms/step - accuracy: 0.8698 - loss: 0.2982 - val_accuracy: 0.8678 - val_loss: 0.3017\n",
      "Epoch 17/50\n",
      "\u001b[1m650/650\u001b[0m \u001b[32m━━━━━━━━━━━━━━━━━━━━\u001b[0m\u001b[37m\u001b[0m \u001b[1m1s\u001b[0m 1ms/step - accuracy: 0.8688 - loss: 0.2973 - val_accuracy: 0.8671 - val_loss: 0.3000\n",
      "Epoch 18/50\n",
      "\u001b[1m650/650\u001b[0m \u001b[32m━━━━━━━━━━━━━━━━━━━━\u001b[0m\u001b[37m\u001b[0m \u001b[1m1s\u001b[0m 1ms/step - accuracy: 0.8707 - loss: 0.2942 - val_accuracy: 0.8671 - val_loss: 0.2987\n",
      "Epoch 19/50\n",
      "\u001b[1m650/650\u001b[0m \u001b[32m━━━━━━━━━━━━━━━━━━━━\u001b[0m\u001b[37m\u001b[0m \u001b[1m1s\u001b[0m 1ms/step - accuracy: 0.8683 - loss: 0.2960 - val_accuracy: 0.8678 - val_loss: 0.2968\n",
      "Epoch 20/50\n",
      "\u001b[1m650/650\u001b[0m \u001b[32m━━━━━━━━━━━━━━━━━━━━\u001b[0m\u001b[37m\u001b[0m \u001b[1m1s\u001b[0m 1ms/step - accuracy: 0.8720 - loss: 0.2913 - val_accuracy: 0.8683 - val_loss: 0.2953\n",
      "Epoch 21/50\n",
      "\u001b[1m650/650\u001b[0m \u001b[32m━━━━━━━━━━━━━━━━━━━━\u001b[0m\u001b[37m\u001b[0m \u001b[1m1s\u001b[0m 1ms/step - accuracy: 0.8671 - loss: 0.2937 - val_accuracy: 0.8683 - val_loss: 0.2935\n",
      "Epoch 22/50\n",
      "\u001b[1m650/650\u001b[0m \u001b[32m━━━━━━━━━━━━━━━━━━━━\u001b[0m\u001b[37m\u001b[0m \u001b[1m1s\u001b[0m 1ms/step - accuracy: 0.8721 - loss: 0.2853 - val_accuracy: 0.8686 - val_loss: 0.2925\n",
      "Epoch 23/50\n",
      "\u001b[1m650/650\u001b[0m \u001b[32m━━━━━━━━━━━━━━━━━━━━\u001b[0m\u001b[37m\u001b[0m \u001b[1m1s\u001b[0m 1ms/step - accuracy: 0.8687 - loss: 0.2895 - val_accuracy: 0.8673 - val_loss: 0.2910\n",
      "Epoch 24/50\n",
      "\u001b[1m650/650\u001b[0m \u001b[32m━━━━━━━━━━━━━━━━━━━━\u001b[0m\u001b[37m\u001b[0m \u001b[1m1s\u001b[0m 1ms/step - accuracy: 0.8700 - loss: 0.2855 - val_accuracy: 0.8673 - val_loss: 0.2896\n",
      "Epoch 25/50\n",
      "\u001b[1m650/650\u001b[0m \u001b[32m━━━━━━━━━━━━━━━━━━━━\u001b[0m\u001b[37m\u001b[0m \u001b[1m1s\u001b[0m 1ms/step - accuracy: 0.8692 - loss: 0.2862 - val_accuracy: 0.8687 - val_loss: 0.2879\n",
      "Epoch 26/50\n",
      "\u001b[1m650/650\u001b[0m \u001b[32m━━━━━━━━━━━━━━━━━━━━\u001b[0m\u001b[37m\u001b[0m \u001b[1m1s\u001b[0m 1ms/step - accuracy: 0.8704 - loss: 0.2822 - val_accuracy: 0.8688 - val_loss: 0.2865\n",
      "Epoch 27/50\n",
      "\u001b[1m650/650\u001b[0m \u001b[32m━━━━━━━━━━━━━━━━━━━━\u001b[0m\u001b[37m\u001b[0m \u001b[1m1s\u001b[0m 1ms/step - accuracy: 0.8705 - loss: 0.2817 - val_accuracy: 0.8679 - val_loss: 0.2856\n",
      "Epoch 28/50\n",
      "\u001b[1m650/650\u001b[0m \u001b[32m━━━━━━━━━━━━━━━━━━━━\u001b[0m\u001b[37m\u001b[0m \u001b[1m1s\u001b[0m 1ms/step - accuracy: 0.8686 - loss: 0.2804 - val_accuracy: 0.8687 - val_loss: 0.2839\n",
      "Epoch 29/50\n",
      "\u001b[1m650/650\u001b[0m \u001b[32m━━━━━━━━━━━━━━━━━━━━\u001b[0m\u001b[37m\u001b[0m \u001b[1m1s\u001b[0m 1ms/step - accuracy: 0.8698 - loss: 0.2786 - val_accuracy: 0.8673 - val_loss: 0.2832\n",
      "Epoch 30/50\n",
      "\u001b[1m650/650\u001b[0m \u001b[32m━━━━━━━━━━━━━━━━━━━━\u001b[0m\u001b[37m\u001b[0m \u001b[1m1s\u001b[0m 1ms/step - accuracy: 0.8669 - loss: 0.2803 - val_accuracy: 0.8687 - val_loss: 0.2812\n",
      "Epoch 31/50\n",
      "\u001b[1m650/650\u001b[0m \u001b[32m━━━━━━━━━━━━━━━━━━━━\u001b[0m\u001b[37m\u001b[0m \u001b[1m1s\u001b[0m 1ms/step - accuracy: 0.8675 - loss: 0.2785 - val_accuracy: 0.8673 - val_loss: 0.2799\n",
      "Epoch 32/50\n",
      "\u001b[1m650/650\u001b[0m \u001b[32m━━━━━━━━━━━━━━━━━━━━\u001b[0m\u001b[37m\u001b[0m \u001b[1m1s\u001b[0m 1ms/step - accuracy: 0.8698 - loss: 0.2736 - val_accuracy: 0.8673 - val_loss: 0.2790\n",
      "Epoch 33/50\n",
      "\u001b[1m650/650\u001b[0m \u001b[32m━━━━━━━━━━━━━━━━━━━━\u001b[0m\u001b[37m\u001b[0m \u001b[1m1s\u001b[0m 1ms/step - accuracy: 0.8688 - loss: 0.2726 - val_accuracy: 0.8687 - val_loss: 0.2769\n",
      "Epoch 34/50\n",
      "\u001b[1m650/650\u001b[0m \u001b[32m━━━━━━━━━━━━━━━━━━━━\u001b[0m\u001b[37m\u001b[0m \u001b[1m1s\u001b[0m 1ms/step - accuracy: 0.8698 - loss: 0.2716 - val_accuracy: 0.8673 - val_loss: 0.2757\n",
      "Epoch 35/50\n",
      "\u001b[1m650/650\u001b[0m \u001b[32m━━━━━━━━━━━━━━━━━━━━\u001b[0m\u001b[37m\u001b[0m \u001b[1m1s\u001b[0m 1ms/step - accuracy: 0.8706 - loss: 0.2676 - val_accuracy: 0.8673 - val_loss: 0.2742\n",
      "Epoch 36/50\n",
      "\u001b[1m650/650\u001b[0m \u001b[32m━━━━━━━━━━━━━━━━━━━━\u001b[0m\u001b[37m\u001b[0m \u001b[1m1s\u001b[0m 1ms/step - accuracy: 0.8678 - loss: 0.2714 - val_accuracy: 0.8687 - val_loss: 0.2724\n",
      "Epoch 37/50\n",
      "\u001b[1m650/650\u001b[0m \u001b[32m━━━━━━━━━━━━━━━━━━━━\u001b[0m\u001b[37m\u001b[0m \u001b[1m1s\u001b[0m 1ms/step - accuracy: 0.8706 - loss: 0.2672 - val_accuracy: 0.8689 - val_loss: 0.2718\n",
      "Epoch 38/50\n",
      "\u001b[1m650/650\u001b[0m \u001b[32m━━━━━━━━━━━━━━━━━━━━\u001b[0m\u001b[37m\u001b[0m \u001b[1m1s\u001b[0m 1ms/step - accuracy: 0.8753 - loss: 0.2639 - val_accuracy: 0.8683 - val_loss: 0.2697\n",
      "Epoch 39/50\n",
      "\u001b[1m650/650\u001b[0m \u001b[32m━━━━━━━━━━━━━━━━━━━━\u001b[0m\u001b[37m\u001b[0m \u001b[1m1s\u001b[0m 1ms/step - accuracy: 0.8809 - loss: 0.2638 - val_accuracy: 0.8907 - val_loss: 0.2678\n",
      "Epoch 40/50\n",
      "\u001b[1m650/650\u001b[0m \u001b[32m━━━━━━━━━━━━━━━━━━━━\u001b[0m\u001b[37m\u001b[0m \u001b[1m1s\u001b[0m 1ms/step - accuracy: 0.8827 - loss: 0.2645 - val_accuracy: 0.8907 - val_loss: 0.2669\n",
      "Epoch 41/50\n",
      "\u001b[1m650/650\u001b[0m \u001b[32m━━━━━━━━━━━━━━━━━━━━\u001b[0m\u001b[37m\u001b[0m \u001b[1m1s\u001b[0m 1ms/step - accuracy: 0.8904 - loss: 0.2601 - val_accuracy: 0.8914 - val_loss: 0.2659\n",
      "Epoch 42/50\n",
      "\u001b[1m650/650\u001b[0m \u001b[32m━━━━━━━━━━━━━━━━━━━━\u001b[0m\u001b[37m\u001b[0m \u001b[1m1s\u001b[0m 1ms/step - accuracy: 0.8934 - loss: 0.2574 - val_accuracy: 0.8907 - val_loss: 0.2629\n",
      "Epoch 43/50\n",
      "\u001b[1m650/650\u001b[0m \u001b[32m━━━━━━━━━━━━━━━━━━━━\u001b[0m\u001b[37m\u001b[0m \u001b[1m1s\u001b[0m 1ms/step - accuracy: 0.8939 - loss: 0.2571 - val_accuracy: 0.8907 - val_loss: 0.2619\n",
      "Epoch 44/50\n",
      "\u001b[1m650/650\u001b[0m \u001b[32m━━━━━━━━━━━━━━━━━━━━\u001b[0m\u001b[37m\u001b[0m \u001b[1m1s\u001b[0m 1ms/step - accuracy: 0.8950 - loss: 0.2532 - val_accuracy: 0.8907 - val_loss: 0.2598\n",
      "Epoch 45/50\n",
      "\u001b[1m650/650\u001b[0m \u001b[32m━━━━━━━━━━━━━━━━━━━━\u001b[0m\u001b[37m\u001b[0m \u001b[1m1s\u001b[0m 1ms/step - accuracy: 0.8947 - loss: 0.2548 - val_accuracy: 0.8922 - val_loss: 0.2579\n",
      "Epoch 46/50\n",
      "\u001b[1m650/650\u001b[0m \u001b[32m━━━━━━━━━━━━━━━━━━━━\u001b[0m\u001b[37m\u001b[0m \u001b[1m1s\u001b[0m 1ms/step - accuracy: 0.8992 - loss: 0.2521 - val_accuracy: 0.8907 - val_loss: 0.2560\n",
      "Epoch 47/50\n",
      "\u001b[1m650/650\u001b[0m \u001b[32m━━━━━━━━━━━━━━━━━━━━\u001b[0m\u001b[37m\u001b[0m \u001b[1m1s\u001b[0m 1ms/step - accuracy: 0.8955 - loss: 0.2524 - val_accuracy: 0.8907 - val_loss: 0.2542\n",
      "Epoch 48/50\n",
      "\u001b[1m650/650\u001b[0m \u001b[32m━━━━━━━━━━━━━━━━━━━━\u001b[0m\u001b[37m\u001b[0m \u001b[1m1s\u001b[0m 1ms/step - accuracy: 0.9047 - loss: 0.2479 - val_accuracy: 0.8908 - val_loss: 0.2539\n",
      "Epoch 49/50\n",
      "\u001b[1m650/650\u001b[0m \u001b[32m━━━━━━━━━━━━━━━━━━━━\u001b[0m\u001b[37m\u001b[0m \u001b[1m1s\u001b[0m 1ms/step - accuracy: 0.9073 - loss: 0.2454 - val_accuracy: 0.8914 - val_loss: 0.2499\n",
      "Epoch 50/50\n",
      "\u001b[1m650/650\u001b[0m \u001b[32m━━━━━━━━━━━━━━━━━━━━\u001b[0m\u001b[37m\u001b[0m \u001b[1m1s\u001b[0m 1ms/step - accuracy: 0.9083 - loss: 0.2447 - val_accuracy: 0.9181 - val_loss: 0.2476\n"
     ]
    }
   ],
   "source": [
    "history = model.fit(X_train_scaled, y_train, \n",
    "                    validation_split=0.2,  \n",
    "                    epochs=50,            \n",
    "                    batch_size=128,         \n",
    "                    verbose=1)            \n"
   ]
  },
  {
   "cell_type": "code",
   "execution_count": 59,
   "metadata": {},
   "outputs": [
    {
     "data": {
      "image/png": "[encoded data removed]",
      "text/plain": [
       "<Figure size 1000x600 with 1 Axes>"
      ]
     },
     "metadata": {},
     "output_type": "display_data"
    }
   ],
   "source": [
    "import matplotlib.pyplot as plt\n",
    "\n",
    "plt.figure(figsize=(10, 6))\n",
    "plt.plot(history.history['loss'], label='Training Loss', color='blue')\n",
    "plt.plot(history.history['val_loss'], label='Validation Loss', color='orange')\n",
    "plt.title('Training and Validation Loss Over Epochs')\n",
    "plt.xlabel('Epochs')\n",
    "plt.ylabel('Loss')\n",
    "plt.legend()\n",
    "plt.grid()\n",
    "plt.show()\n"
   ]
  },
  {
   "cell_type": "markdown",
   "metadata": {},
   "source": [
    "For better result we use another to check models accuracy over time to identify issues such as overfitting or underfitting. By analyzing the plots of accuracy and loss one can make informed decisions about further training adjustments to model architecture or tuning hyperparameters."
   ]
  },
  {
   "cell_type": "code",
   "execution_count": 60,
   "metadata": {},
   "outputs": [
    {
     "name": "stdout",
     "output_type": "stream",
     "text": [
      "Epoch 1/10\n",
      "\u001b[1m2924/2924\u001b[0m \u001b[32m━━━━━━━━━━━━━━━━━━━━\u001b[0m\u001b[37m\u001b[0m \u001b[1m4s\u001b[0m 1ms/step - accuracy: 0.9170 - loss: 0.2405 - val_accuracy: 0.9178 - val_loss: 0.2423\n",
      "Epoch 2/10\n",
      "\u001b[1m2924/2924\u001b[0m \u001b[32m━━━━━━━━━━━━━━━━━━━━\u001b[0m\u001b[37m\u001b[0m \u001b[1m3s\u001b[0m 1ms/step - accuracy: 0.9218 - loss: 0.2297 - val_accuracy: 0.9321 - val_loss: 0.2335\n",
      "Epoch 3/10\n",
      "\u001b[1m2924/2924\u001b[0m \u001b[32m━━━━━━━━━━━━━━━━━━━━\u001b[0m\u001b[37m\u001b[0m \u001b[1m3s\u001b[0m 1ms/step - accuracy: 0.9254 - loss: 0.2226 - val_accuracy: 0.9178 - val_loss: 0.2238\n",
      "Epoch 4/10\n",
      "\u001b[1m2924/2924\u001b[0m \u001b[32m━━━━━━━━━━━━━━━━━━━━\u001b[0m\u001b[37m\u001b[0m \u001b[1m3s\u001b[0m 1ms/step - accuracy: 0.9277 - loss: 0.2147 - val_accuracy: 0.9140 - val_loss: 0.2182\n",
      "Epoch 5/10\n",
      "\u001b[1m2924/2924\u001b[0m \u001b[32m━━━━━━━━━━━━━━━━━━━━\u001b[0m\u001b[37m\u001b[0m \u001b[1m3s\u001b[0m 1ms/step - accuracy: 0.9268 - loss: 0.2105 - val_accuracy: 0.9286 - val_loss: 0.2170\n",
      "Epoch 6/10\n",
      "\u001b[1m2924/2924\u001b[0m \u001b[32m━━━━━━━━━━━━━━━━━━━━\u001b[0m\u001b[37m\u001b[0m \u001b[1m3s\u001b[0m 1ms/step - accuracy: 0.9284 - loss: 0.2054 - val_accuracy: 0.9182 - val_loss: 0.2111\n",
      "Epoch 7/10\n",
      "\u001b[1m2924/2924\u001b[0m \u001b[32m━━━━━━━━━━━━━━━━━━━━\u001b[0m\u001b[37m\u001b[0m \u001b[1m3s\u001b[0m 1ms/step - accuracy: 0.9308 - loss: 0.2004 - val_accuracy: 0.9288 - val_loss: 0.2038\n",
      "Epoch 8/10\n",
      "\u001b[1m2924/2924\u001b[0m \u001b[32m━━━━━━━━━━━━━━━━━━━━\u001b[0m\u001b[37m\u001b[0m \u001b[1m3s\u001b[0m 1ms/step - accuracy: 0.9298 - loss: 0.1980 - val_accuracy: 0.9338 - val_loss: 0.2026\n",
      "Epoch 9/10\n",
      "\u001b[1m2924/2924\u001b[0m \u001b[32m━━━━━━━━━━━━━━━━━━━━\u001b[0m\u001b[37m\u001b[0m \u001b[1m3s\u001b[0m 1ms/step - accuracy: 0.9295 - loss: 0.1948 - val_accuracy: 0.9365 - val_loss: 0.1990\n",
      "Epoch 10/10\n",
      "\u001b[1m2924/2924\u001b[0m \u001b[32m━━━━━━━━━━━━━━━━━━━━\u001b[0m\u001b[37m\u001b[0m \u001b[1m3s\u001b[0m 1ms/step - accuracy: 0.9303 - loss: 0.1944 - val_accuracy: 0.9211 - val_loss: 0.2044\n"
     ]
    }
   ],
   "source": [
    "import matplotlib.pyplot as plt\n",
    "from keras.callbacks import EarlyStopping\n",
    "\n",
    "# Model setup (assuming model is already defined)\n",
    "\n",
    "# Early stopping to prevent overfitting\n",
    "early_stopping = EarlyStopping(monitor='val_loss', patience=5, restore_best_weights=True)\n",
    "\n",
    "# Model training parameters\n",
    "epochs = 10  \n",
    "batch_size = 32  \n",
    "\n",
    "# Train the model\n",
    "history = model.fit(X_train_scaled, y_train, \n",
    "                    validation_split=0.1,  \n",
    "                    epochs=epochs,         \n",
    "                    batch_size=batch_size,  \n",
    "                    verbose=1, \n",
    "                    callbacks=[early_stopping])\n",
    "\n",
    "\n"
   ]
  },
  {
   "cell_type": "markdown",
   "metadata": {},
   "source": [
    "Visualize the learning process by plotting the model's training and validation loss against epochs and the decision boundary using Matplotlib, observing trends and interpreting model performance, especially when using two features."
   ]
  },
  {
   "cell_type": "code",
   "execution_count": 52,
   "metadata": {},
   "outputs": [],
   "source": [
    "# two features \n",
    "feature_1 = 'service'  \n",
    "feature_2 = 'flag'     \n",
    "X_vis = X[[feature_1, feature_2]].copy() #dataframe with 2 feaautres\n"
   ]
  },
  {
   "cell_type": "code",
   "execution_count": 25,
   "metadata": {},
   "outputs": [
    {
     "name": "stdout",
     "output_type": "stream",
     "text": [
      "\u001b[1m266250/266250\u001b[0m \u001b[32m━━━━━━━━━━━━━━━━━━━━\u001b[0m\u001b[37m\u001b[0m \u001b[1m202s\u001b[0m 759us/step\n"
     ]
    },
    {
     "data": {
      "image/png": "[encoded data removed]",
      "text/plain": [
       "<Figure size 1000x600 with 1 Axes>"
      ]
     },
     "metadata": {},
     "output_type": "display_data"
    }
   ],
   "source": [
    "import numpy as np\n",
    "\n",
    "# Create a mesh grid for plotting decision boundaries\n",
    "x_min, x_max = X_vis[feature_1].min() - 1, X_vis[feature_1].max() + 1\n",
    "y_min, y_max = X_vis[feature_2].min() - 1, X_vis[feature_2].max() + 1\n",
    "xx, yy = np.meshgrid(np.arange(x_min, x_max, 0.01),\n",
    "                     np.arange(y_min, y_max, 0.01))\n",
    "\n",
    "Z = model.predict(np.c_[xx.ravel(), yy.ravel()])  \n",
    "Z = (Z > 0.5).astype(int)  \n",
    "Z = Z.reshape(xx.shape)\n",
    "plt.figure(figsize=(10, 6))\n",
    "plt.contourf(xx, yy, Z, alpha=0.8, cmap=plt.cm.coolwarm)\n",
    "plt.scatter(X_vis[feature_1], X_vis[feature_2], c=y_encoded, edgecolors='k', marker='o')\n",
    "plt.title('Decision Boundary and Data Points')\n",
    "plt.xlabel(feature_1)\n",
    "plt.ylabel(feature_2)\n",
    "plt.show()\n"
   ]
  },
  {
   "cell_type": "code",
   "execution_count": 53,
   "metadata": {},
   "outputs": [
    {
     "name": "stdout",
     "output_type": "stream",
     "text": [
      "Test Loss: 0.19139492511749268\n",
      "Test Accuracy: 0.9283598065376282\n"
     ]
    }
   ],
   "source": [
    "# Evaluate the model \n",
    "test_loss, test_accuracy = model.evaluate(X_test_scaled, y_test, verbose=0)\n",
    "\n",
    "print(f\"Test Loss: {test_loss}\")\n",
    "print(f\"Test Accuracy: {test_accuracy}\")\n"
   ]
  },
  {
   "cell_type": "code",
   "execution_count": 54,
   "metadata": {},
   "outputs": [
    {
     "name": "stdout",
     "output_type": "stream",
     "text": [
      "\u001b[1m1393/1393\u001b[0m \u001b[32m━━━━━━━━━━━━━━━━━━━━\u001b[0m\u001b[37m\u001b[0m \u001b[1m2s\u001b[0m 1ms/step\n"
     ]
    },
    {
     "data": {
      "image/png": "[encoded data removed]",
      "text/plain": [
       "<Figure size 600x400 with 2 Axes>"
      ]
     },
     "metadata": {},
     "output_type": "display_data"
    }
   ],
   "source": [
    "from sklearn.metrics import confusion_matrix\n",
    "import seaborn as sns\n",
    "\n",
    "y_pred = (model.predict(X_test_scaled) > 0.5).astype(int)  \n",
    "\n",
    "conf_matrix = confusion_matrix(y_test, y_pred)\n",
    "plt.figure(figsize=(6, 4))\n",
    "sns.heatmap(conf_matrix, annot=True, fmt='d', cmap='Blues')\n",
    "plt.title('Confusion Matrix')\n",
    "plt.xlabel('Predicted Label')\n",
    "plt.ylabel('True Label')\n",
    "plt.show()\n"
   ]
  },
  {
   "cell_type": "code",
   "execution_count": 55,
   "metadata": {},
   "outputs": [
    {
     "name": "stdout",
     "output_type": "stream",
     "text": [
      "\n",
      "Classification Report:\n",
      "              precision    recall  f1-score   support\n",
      "\n",
      "      Benign       0.93      0.94      0.93     23102\n",
      "   Malicious       0.93      0.92      0.93     21454\n",
      "\n",
      "    accuracy                           0.93     44556\n",
      "   macro avg       0.93      0.93      0.93     44556\n",
      "weighted avg       0.93      0.93      0.93     44556\n",
      "\n"
     ]
    }
   ],
   "source": [
    "from sklearn.metrics import classification_report\n",
    "report = classification_report(y_test, y_pred, target_names=['Benign', 'Malicious'])\n",
    "print(\"\\nClassification Report:\")\n",
    "print(report)\n"
   ]
  },
  {
   "cell_type": "code",
   "execution_count": 31,
   "metadata": {},
   "outputs": [
    {
     "name": "stdout",
     "output_type": "stream",
     "text": [
      "\n",
      "Training with learning rate: 0.001\n",
      "Epoch 1/10\n"
     ]
    },
    {
     "name": "stderr",
     "output_type": "stream",
     "text": [
      "c:\\Users\\civin\\AppData\\Local\\Programs\\Python\\Python311\\Lib\\site-packages\\keras\\src\\layers\\core\\dense.py:87: UserWarning: Do not pass an `input_shape`/`input_dim` argument to a layer. When using Sequential models, prefer using an `Input(shape)` object as the first layer in the model instead.\n",
      "  super().__init__(activity_regularizer=activity_regularizer, **kwargs)\n"
     ]
    },
    {
     "name": "stdout",
     "output_type": "stream",
     "text": [
      "\u001b[1m2599/2599\u001b[0m \u001b[32m━━━━━━━━━━━━━━━━━━━━\u001b[0m\u001b[37m\u001b[0m \u001b[1m4s\u001b[0m 1ms/step - accuracy: 0.7455 - loss: 0.6242 - val_accuracy: 0.8568 - val_loss: 0.4931\n",
      "Epoch 2/10\n",
      "\u001b[1m2599/2599\u001b[0m \u001b[32m━━━━━━━━━━━━━━━━━━━━\u001b[0m\u001b[37m\u001b[0m \u001b[1m3s\u001b[0m 1ms/step - accuracy: 0.8570 - loss: 0.4665 - val_accuracy: 0.8568 - val_loss: 0.4160\n",
      "Epoch 3/10\n",
      "\u001b[1m2599/2599\u001b[0m \u001b[32m━━━━━━━━━━━━━━━━━━━━\u001b[0m\u001b[37m\u001b[0m \u001b[1m3s\u001b[0m 1ms/step - accuracy: 0.8578 - loss: 0.4088 - val_accuracy: 0.8560 - val_loss: 0.3950\n",
      "Epoch 4/10\n",
      "\u001b[1m2599/2599\u001b[0m \u001b[32m━━━━━━━━━━━━━━━━━━━━\u001b[0m\u001b[37m\u001b[0m \u001b[1m3s\u001b[0m 1ms/step - accuracy: 0.8578 - loss: 0.3918 - val_accuracy: 0.8560 - val_loss: 0.3863\n",
      "Epoch 5/10\n",
      "\u001b[1m2599/2599\u001b[0m \u001b[32m━━━━━━━━━━━━━━━━━━━━\u001b[0m\u001b[37m\u001b[0m \u001b[1m3s\u001b[0m 1ms/step - accuracy: 0.8582 - loss: 0.3818 - val_accuracy: 0.8560 - val_loss: 0.3802\n",
      "Epoch 6/10\n",
      "\u001b[1m2599/2599\u001b[0m \u001b[32m━━━━━━━━━━━━━━━━━━━━\u001b[0m\u001b[37m\u001b[0m \u001b[1m3s\u001b[0m 1ms/step - accuracy: 0.8589 - loss: 0.3761 - val_accuracy: 0.8560 - val_loss: 0.3746\n",
      "Epoch 7/10\n",
      "\u001b[1m2599/2599\u001b[0m \u001b[32m━━━━━━━━━━━━━━━━━━━━\u001b[0m\u001b[37m\u001b[0m \u001b[1m3s\u001b[0m 1ms/step - accuracy: 0.8590 - loss: 0.3698 - val_accuracy: 0.8560 - val_loss: 0.3693\n",
      "Epoch 8/10\n",
      "\u001b[1m2599/2599\u001b[0m \u001b[32m━━━━━━━━━━━━━━━━━━━━\u001b[0m\u001b[37m\u001b[0m \u001b[1m3s\u001b[0m 1ms/step - accuracy: 0.8575 - loss: 0.3666 - val_accuracy: 0.8560 - val_loss: 0.3641\n",
      "Epoch 9/10\n",
      "\u001b[1m2599/2599\u001b[0m \u001b[32m━━━━━━━━━━━━━━━━━━━━\u001b[0m\u001b[37m\u001b[0m \u001b[1m3s\u001b[0m 1ms/step - accuracy: 0.8580 - loss: 0.3606 - val_accuracy: 0.8560 - val_loss: 0.3590\n",
      "Epoch 10/10\n",
      "\u001b[1m2599/2599\u001b[0m \u001b[32m━━━━━━━━━━━━━━━━━━━━\u001b[0m\u001b[37m\u001b[0m \u001b[1m3s\u001b[0m 1ms/step - accuracy: 0.8568 - loss: 0.3565 - val_accuracy: 0.8560 - val_loss: 0.3546\n",
      "Test Accuracy with learning rate 0.001: 0.8567869663238525\n",
      "\n",
      "Training with learning rate: 0.01\n",
      "Epoch 1/10\n"
     ]
    },
    {
     "name": "stderr",
     "output_type": "stream",
     "text": [
      "c:\\Users\\civin\\AppData\\Local\\Programs\\Python\\Python311\\Lib\\site-packages\\keras\\src\\layers\\core\\dense.py:87: UserWarning: Do not pass an `input_shape`/`input_dim` argument to a layer. When using Sequential models, prefer using an `Input(shape)` object as the first layer in the model instead.\n",
      "  super().__init__(activity_regularizer=activity_regularizer, **kwargs)\n"
     ]
    },
    {
     "name": "stdout",
     "output_type": "stream",
     "text": [
      "\u001b[1m2599/2599\u001b[0m \u001b[32m━━━━━━━━━━━━━━━━━━━━\u001b[0m\u001b[37m\u001b[0m \u001b[1m4s\u001b[0m 1ms/step - accuracy: 0.8267 - loss: 0.4545 - val_accuracy: 0.8566 - val_loss: 0.3481\n",
      "Epoch 2/10\n",
      "\u001b[1m2599/2599\u001b[0m \u001b[32m━━━━━━━━━━━━━━━━━━━━\u001b[0m\u001b[37m\u001b[0m \u001b[1m3s\u001b[0m 1ms/step - accuracy: 0.8582 - loss: 0.3333 - val_accuracy: 0.8544 - val_loss: 0.3186\n",
      "Epoch 3/10\n",
      "\u001b[1m2599/2599\u001b[0m \u001b[32m━━━━━━━━━━━━━━━━━━━━\u001b[0m\u001b[37m\u001b[0m \u001b[1m3s\u001b[0m 1ms/step - accuracy: 0.8629 - loss: 0.3112 - val_accuracy: 0.8693 - val_loss: 0.3065\n",
      "Epoch 4/10\n",
      "\u001b[1m2599/2599\u001b[0m \u001b[32m━━━━━━━━━━━━━━━━━━━━\u001b[0m\u001b[37m\u001b[0m \u001b[1m3s\u001b[0m 1ms/step - accuracy: 0.8698 - loss: 0.3022 - val_accuracy: 0.8689 - val_loss: 0.2985\n",
      "Epoch 5/10\n",
      "\u001b[1m2599/2599\u001b[0m \u001b[32m━━━━━━━━━━━━━━━━━━━━\u001b[0m\u001b[37m\u001b[0m \u001b[1m3s\u001b[0m 1ms/step - accuracy: 0.8730 - loss: 0.2904 - val_accuracy: 0.8680 - val_loss: 0.2940\n",
      "Epoch 6/10\n",
      "\u001b[1m2599/2599\u001b[0m \u001b[32m━━━━━━━━━━━━━━━━━━━━\u001b[0m\u001b[37m\u001b[0m \u001b[1m3s\u001b[0m 1ms/step - accuracy: 0.8725 - loss: 0.2846 - val_accuracy: 0.8692 - val_loss: 0.2868\n",
      "Epoch 7/10\n",
      "\u001b[1m2599/2599\u001b[0m \u001b[32m━━━━━━━━━━━━━━━━━━━━\u001b[0m\u001b[37m\u001b[0m \u001b[1m3s\u001b[0m 1ms/step - accuracy: 0.8697 - loss: 0.2824 - val_accuracy: 0.8677 - val_loss: 0.2828\n",
      "Epoch 8/10\n",
      "\u001b[1m2599/2599\u001b[0m \u001b[32m━━━━━━━━━━━━━━━━━━━━\u001b[0m\u001b[37m\u001b[0m \u001b[1m3s\u001b[0m 1ms/step - accuracy: 0.8694 - loss: 0.2768 - val_accuracy: 0.8684 - val_loss: 0.2753\n",
      "Epoch 9/10\n",
      "\u001b[1m2599/2599\u001b[0m \u001b[32m━━━━━━━━━━━━━━━━━━━━\u001b[0m\u001b[37m\u001b[0m \u001b[1m3s\u001b[0m 1ms/step - accuracy: 0.8747 - loss: 0.2699 - val_accuracy: 0.8924 - val_loss: 0.2683\n",
      "Epoch 10/10\n",
      "\u001b[1m2599/2599\u001b[0m \u001b[32m━━━━━━━━━━━━━━━━━━━━\u001b[0m\u001b[37m\u001b[0m \u001b[1m9s\u001b[0m 3ms/step - accuracy: 0.8893 - loss: 0.2604 - val_accuracy: 0.8910 - val_loss: 0.2617\n",
      "Test Accuracy with learning rate 0.01: 0.8911033272743225\n",
      "\n",
      "Training with learning rate: 0.1\n",
      "Epoch 1/10\n"
     ]
    },
    {
     "name": "stderr",
     "output_type": "stream",
     "text": [
      "c:\\Users\\civin\\AppData\\Local\\Programs\\Python\\Python311\\Lib\\site-packages\\keras\\src\\layers\\core\\dense.py:87: UserWarning: Do not pass an `input_shape`/`input_dim` argument to a layer. When using Sequential models, prefer using an `Input(shape)` object as the first layer in the model instead.\n",
      "  super().__init__(activity_regularizer=activity_regularizer, **kwargs)\n"
     ]
    },
    {
     "name": "stdout",
     "output_type": "stream",
     "text": [
      "\u001b[1m2599/2599\u001b[0m \u001b[32m━━━━━━━━━━━━━━━━━━━━\u001b[0m\u001b[37m\u001b[0m \u001b[1m4s\u001b[0m 1ms/step - accuracy: 0.8521 - loss: 0.3589 - val_accuracy: 0.8569 - val_loss: 0.2919\n",
      "Epoch 2/10\n",
      "\u001b[1m2599/2599\u001b[0m \u001b[32m━━━━━━━━━━━━━━━━━━━━\u001b[0m\u001b[37m\u001b[0m \u001b[1m3s\u001b[0m 1ms/step - accuracy: 0.8857 - loss: 0.2740 - val_accuracy: 0.9007 - val_loss: 0.2492\n",
      "Epoch 3/10\n",
      "\u001b[1m2599/2599\u001b[0m \u001b[32m━━━━━━━━━━━━━━━━━━━━\u001b[0m\u001b[37m\u001b[0m \u001b[1m3s\u001b[0m 1ms/step - accuracy: 0.9136 - loss: 0.2287 - val_accuracy: 0.9193 - val_loss: 0.2291\n",
      "Epoch 4/10\n",
      "\u001b[1m2599/2599\u001b[0m \u001b[32m━━━━━━━━━━━━━━━━━━━━\u001b[0m\u001b[37m\u001b[0m \u001b[1m3s\u001b[0m 1ms/step - accuracy: 0.9234 - loss: 0.2056 - val_accuracy: 0.9218 - val_loss: 0.1962\n",
      "Epoch 5/10\n",
      "\u001b[1m2599/2599\u001b[0m \u001b[32m━━━━━━━━━━━━━━━━━━━━\u001b[0m\u001b[37m\u001b[0m \u001b[1m3s\u001b[0m 1ms/step - accuracy: 0.9268 - loss: 0.1975 - val_accuracy: 0.9170 - val_loss: 0.1958\n",
      "Epoch 6/10\n",
      "\u001b[1m2599/2599\u001b[0m \u001b[32m━━━━━━━━━━━━━━━━━━━━\u001b[0m\u001b[37m\u001b[0m \u001b[1m3s\u001b[0m 1ms/step - accuracy: 0.9299 - loss: 0.1907 - val_accuracy: 0.9315 - val_loss: 0.1945\n",
      "Epoch 7/10\n",
      "\u001b[1m2599/2599\u001b[0m \u001b[32m━━━━━━━━━━━━━━━━━━━━\u001b[0m\u001b[37m\u001b[0m \u001b[1m3s\u001b[0m 1ms/step - accuracy: 0.9303 - loss: 0.1913 - val_accuracy: 0.9255 - val_loss: 0.1914\n",
      "Epoch 8/10\n",
      "\u001b[1m2599/2599\u001b[0m \u001b[32m━━━━━━━━━━━━━━━━━━━━\u001b[0m\u001b[37m\u001b[0m \u001b[1m3s\u001b[0m 1ms/step - accuracy: 0.9323 - loss: 0.1863 - val_accuracy: 0.9373 - val_loss: 0.1961\n",
      "Epoch 9/10\n",
      "\u001b[1m2599/2599\u001b[0m \u001b[32m━━━━━━━━━━━━━━━━━━━━\u001b[0m\u001b[37m\u001b[0m \u001b[1m3s\u001b[0m 1ms/step - accuracy: 0.9328 - loss: 0.1828 - val_accuracy: 0.9328 - val_loss: 0.1901\n",
      "Epoch 10/10\n",
      "\u001b[1m2599/2599\u001b[0m \u001b[32m━━━━━━━━━━━━━━━━━━━━\u001b[0m\u001b[37m\u001b[0m \u001b[1m3s\u001b[0m 1ms/step - accuracy: 0.9339 - loss: 0.1797 - val_accuracy: 0.9305 - val_loss: 0.1854\n",
      "Test Accuracy with learning rate 0.1: 0.9283598065376282\n",
      "\n",
      "Training with learning rate: 0.5\n",
      "Epoch 1/10\n"
     ]
    },
    {
     "name": "stderr",
     "output_type": "stream",
     "text": [
      "c:\\Users\\civin\\AppData\\Local\\Programs\\Python\\Python311\\Lib\\site-packages\\keras\\src\\layers\\core\\dense.py:87: UserWarning: Do not pass an `input_shape`/`input_dim` argument to a layer. When using Sequential models, prefer using an `Input(shape)` object as the first layer in the model instead.\n",
      "  super().__init__(activity_regularizer=activity_regularizer, **kwargs)\n"
     ]
    },
    {
     "name": "stdout",
     "output_type": "stream",
     "text": [
      "\u001b[1m2599/2599\u001b[0m \u001b[32m━━━━━━━━━━━━━━━━━━━━\u001b[0m\u001b[37m\u001b[0m \u001b[1m3s\u001b[0m 1ms/step - accuracy: 0.8594 - loss: 0.3242 - val_accuracy: 0.9157 - val_loss: 0.2483\n",
      "Epoch 2/10\n",
      "\u001b[1m2599/2599\u001b[0m \u001b[32m━━━━━━━━━━━━━━━━━━━━\u001b[0m\u001b[37m\u001b[0m \u001b[1m3s\u001b[0m 1ms/step - accuracy: 0.9036 - loss: 0.2445 - val_accuracy: 0.8717 - val_loss: 0.2849\n",
      "Epoch 3/10\n",
      "\u001b[1m2599/2599\u001b[0m \u001b[32m━━━━━━━━━━━━━━━━━━━━\u001b[0m\u001b[37m\u001b[0m \u001b[1m3s\u001b[0m 1ms/step - accuracy: 0.8707 - loss: 0.2782 - val_accuracy: 0.8899 - val_loss: 0.2416\n",
      "Epoch 4/10\n",
      "\u001b[1m2599/2599\u001b[0m \u001b[32m━━━━━━━━━━━━━━━━━━━━\u001b[0m\u001b[37m\u001b[0m \u001b[1m3s\u001b[0m 1ms/step - accuracy: 0.8874 - loss: 0.2603 - val_accuracy: 0.9107 - val_loss: 0.2680\n",
      "Epoch 5/10\n",
      "\u001b[1m2599/2599\u001b[0m \u001b[32m━━━━━━━━━━━━━━━━━━━━\u001b[0m\u001b[37m\u001b[0m \u001b[1m3s\u001b[0m 1ms/step - accuracy: 0.9051 - loss: 0.2340 - val_accuracy: 0.9222 - val_loss: 0.2091\n",
      "Epoch 6/10\n",
      "\u001b[1m2599/2599\u001b[0m \u001b[32m━━━━━━━━━━━━━━━━━━━━\u001b[0m\u001b[37m\u001b[0m \u001b[1m3s\u001b[0m 1ms/step - accuracy: 0.9246 - loss: 0.1988 - val_accuracy: 0.9206 - val_loss: 0.2042\n",
      "Epoch 7/10\n",
      "\u001b[1m2599/2599\u001b[0m \u001b[32m━━━━━━━━━━━━━━━━━━━━\u001b[0m\u001b[37m\u001b[0m \u001b[1m3s\u001b[0m 1ms/step - accuracy: 0.9264 - loss: 0.1936 - val_accuracy: 0.9183 - val_loss: 0.1975\n",
      "Epoch 8/10\n",
      "\u001b[1m2599/2599\u001b[0m \u001b[32m━━━━━━━━━━━━━━━━━━━━\u001b[0m\u001b[37m\u001b[0m \u001b[1m3s\u001b[0m 1ms/step - accuracy: 0.9273 - loss: 0.1939 - val_accuracy: 0.9321 - val_loss: 0.1880\n",
      "Epoch 9/10\n",
      "\u001b[1m2599/2599\u001b[0m \u001b[32m━━━━━━━━━━━━━━━━━━━━\u001b[0m\u001b[37m\u001b[0m \u001b[1m3s\u001b[0m 1ms/step - accuracy: 0.9294 - loss: 0.1889 - val_accuracy: 0.9283 - val_loss: 0.1885\n",
      "Epoch 10/10\n",
      "\u001b[1m2599/2599\u001b[0m \u001b[32m━━━━━━━━━━━━━━━━━━━━\u001b[0m\u001b[37m\u001b[0m \u001b[1m3s\u001b[0m 1ms/step - accuracy: 0.9308 - loss: 0.1859 - val_accuracy: 0.9368 - val_loss: 0.1906\n",
      "Test Accuracy with learning rate 0.5: 0.9349358081817627\n"
     ]
    }
   ],
   "source": [
    "from tensorflow.keras.optimizers import SGD\n",
    "\n",
    "def create_model_with_lr(input_shape, learning_rate):\n",
    "    model = keras.Sequential()\n",
    "    model.add(layers.Dense(64, activation='relu', input_shape=input_shape))\n",
    "    model.add(layers.Dense(32, activation='relu'))\n",
    "    model.add(layers.Dense(1, activation='sigmoid')) \n",
    "    optimizer = SGD(learning_rate=learning_rate)  \n",
    "    model.compile(optimizer=optimizer, \n",
    "                  loss='binary_crossentropy', \n",
    "                  metrics=['accuracy'])\n",
    "    \n",
    "    return model\n",
    "\n",
    "learning_rates = [0.001, 0.01, 0.1, 0.5]\n",
    "\n",
    "# Loop learning rate, train and evaluate the model\n",
    "for lr in learning_rates:\n",
    "    print(f\"\\nTraining with learning rate: {lr}\")\n",
    "    model = create_model_with_lr(input_shape, learning_rate=lr)\n",
    "    history = model.fit(X_train_scaled, y_train, \n",
    "                        validation_split=0.2, \n",
    "                        epochs=10, \n",
    "                        batch_size=32, \n",
    "                        verbose=1)\n",
    "    test_loss, test_accuracy = model.evaluate(X_test_scaled, y_test, verbose=0)\n",
    "    print(f\"Test Accuracy with learning rate {lr}: {test_accuracy}\")\n"
   ]
  },
  {
   "cell_type": "code",
   "execution_count": 32,
   "metadata": {},
   "outputs": [
    {
     "name": "stdout",
     "output_type": "stream",
     "text": [
      "\n",
      "Training with optimizer: sgd\n",
      "Epoch 1/10\n"
     ]
    },
    {
     "name": "stderr",
     "output_type": "stream",
     "text": [
      "c:\\Users\\civin\\AppData\\Local\\Programs\\Python\\Python311\\Lib\\site-packages\\keras\\src\\layers\\core\\dense.py:87: UserWarning: Do not pass an `input_shape`/`input_dim` argument to a layer. When using Sequential models, prefer using an `Input(shape)` object as the first layer in the model instead.\n",
      "  super().__init__(activity_regularizer=activity_regularizer, **kwargs)\n"
     ]
    },
    {
     "name": "stdout",
     "output_type": "stream",
     "text": [
      "\u001b[1m2599/2599\u001b[0m \u001b[32m━━━━━━━━━━━━━━━━━━━━\u001b[0m\u001b[37m\u001b[0m \u001b[1m4s\u001b[0m 1ms/step - accuracy: 0.8009 - loss: 0.4839 - val_accuracy: 0.8563 - val_loss: 0.3582\n",
      "Epoch 2/10\n",
      "\u001b[1m2599/2599\u001b[0m \u001b[32m━━━━━━━━━━━━━━━━━━━━\u001b[0m\u001b[37m\u001b[0m \u001b[1m3s\u001b[0m 1ms/step - accuracy: 0.8557 - loss: 0.3451 - val_accuracy: 0.8544 - val_loss: 0.3258\n",
      "Epoch 3/10\n",
      "\u001b[1m2599/2599\u001b[0m \u001b[32m━━━━━━━━━━━━━━━━━━━━\u001b[0m\u001b[37m\u001b[0m \u001b[1m3s\u001b[0m 1ms/step - accuracy: 0.8570 - loss: 0.3192 - val_accuracy: 0.8693 - val_loss: 0.3151\n",
      "Epoch 4/10\n",
      "\u001b[1m2599/2599\u001b[0m \u001b[32m━━━━━━━━━━━━━━━━━━━━\u001b[0m\u001b[37m\u001b[0m \u001b[1m3s\u001b[0m 1ms/step - accuracy: 0.8721 - loss: 0.3086 - val_accuracy: 0.8693 - val_loss: 0.3063\n",
      "Epoch 5/10\n",
      "\u001b[1m2599/2599\u001b[0m \u001b[32m━━━━━━━━━━━━━━━━━━━━\u001b[0m\u001b[37m\u001b[0m \u001b[1m3s\u001b[0m 1ms/step - accuracy: 0.8736 - loss: 0.2965 - val_accuracy: 0.8683 - val_loss: 0.2999\n",
      "Epoch 6/10\n",
      "\u001b[1m2599/2599\u001b[0m \u001b[32m━━━━━━━━━━━━━━━━━━━━\u001b[0m\u001b[37m\u001b[0m \u001b[1m3s\u001b[0m 1ms/step - accuracy: 0.8684 - loss: 0.2976 - val_accuracy: 0.8688 - val_loss: 0.2946\n",
      "Epoch 7/10\n",
      "\u001b[1m2599/2599\u001b[0m \u001b[32m━━━━━━━━━━━━━━━━━━━━\u001b[0m\u001b[37m\u001b[0m \u001b[1m3s\u001b[0m 1ms/step - accuracy: 0.8712 - loss: 0.2868 - val_accuracy: 0.8687 - val_loss: 0.2891\n",
      "Epoch 8/10\n",
      "\u001b[1m2599/2599\u001b[0m \u001b[32m━━━━━━━━━━━━━━━━━━━━\u001b[0m\u001b[37m\u001b[0m \u001b[1m3s\u001b[0m 1ms/step - accuracy: 0.8712 - loss: 0.2803 - val_accuracy: 0.8687 - val_loss: 0.2835\n",
      "Epoch 9/10\n",
      "\u001b[1m2599/2599\u001b[0m \u001b[32m━━━━━━━━━━━━━━━━━━━━\u001b[0m\u001b[37m\u001b[0m \u001b[1m3s\u001b[0m 1ms/step - accuracy: 0.8711 - loss: 0.2792 - val_accuracy: 0.8898 - val_loss: 0.2802\n",
      "Epoch 10/10\n",
      "\u001b[1m2599/2599\u001b[0m \u001b[32m━━━━━━━━━━━━━━━━━━━━\u001b[0m\u001b[37m\u001b[0m \u001b[1m3s\u001b[0m 1ms/step - accuracy: 0.8774 - loss: 0.2710 - val_accuracy: 0.9155 - val_loss: 0.2727\n",
      "Test Accuracy with optimizer sgd: 0.9139958620071411\n",
      "\n",
      "Training with optimizer: adam\n",
      "Epoch 1/10\n"
     ]
    },
    {
     "name": "stderr",
     "output_type": "stream",
     "text": [
      "c:\\Users\\civin\\AppData\\Local\\Programs\\Python\\Python311\\Lib\\site-packages\\keras\\src\\layers\\core\\dense.py:87: UserWarning: Do not pass an `input_shape`/`input_dim` argument to a layer. When using Sequential models, prefer using an `Input(shape)` object as the first layer in the model instead.\n",
      "  super().__init__(activity_regularizer=activity_regularizer, **kwargs)\n"
     ]
    },
    {
     "name": "stdout",
     "output_type": "stream",
     "text": [
      "\u001b[1m2599/2599\u001b[0m \u001b[32m━━━━━━━━━━━━━━━━━━━━\u001b[0m\u001b[37m\u001b[0m \u001b[1m4s\u001b[0m 1ms/step - accuracy: 0.8579 - loss: 0.3544 - val_accuracy: 0.8685 - val_loss: 0.2859\n",
      "Epoch 2/10\n",
      "\u001b[1m2599/2599\u001b[0m \u001b[32m━━━━━━━━━━━━━━━━━━━━\u001b[0m\u001b[37m\u001b[0m \u001b[1m3s\u001b[0m 1ms/step - accuracy: 0.8750 - loss: 0.2743 - val_accuracy: 0.9178 - val_loss: 0.2679\n",
      "Epoch 3/10\n",
      "\u001b[1m2599/2599\u001b[0m \u001b[32m━━━━━━━━━━━━━━━━━━━━\u001b[0m\u001b[37m\u001b[0m \u001b[1m3s\u001b[0m 1ms/step - accuracy: 0.9008 - loss: 0.2555 - val_accuracy: 0.9207 - val_loss: 0.2332\n",
      "Epoch 4/10\n",
      "\u001b[1m2599/2599\u001b[0m \u001b[32m━━━━━━━━━━━━━━━━━━━━\u001b[0m\u001b[37m\u001b[0m \u001b[1m3s\u001b[0m 1ms/step - accuracy: 0.9254 - loss: 0.2220 - val_accuracy: 0.9224 - val_loss: 0.2131\n",
      "Epoch 5/10\n",
      "\u001b[1m2599/2599\u001b[0m \u001b[32m━━━━━━━━━━━━━━━━━━━━\u001b[0m\u001b[37m\u001b[0m \u001b[1m3s\u001b[0m 1ms/step - accuracy: 0.9298 - loss: 0.2005 - val_accuracy: 0.9294 - val_loss: 0.2013\n",
      "Epoch 6/10\n",
      "\u001b[1m2599/2599\u001b[0m \u001b[32m━━━━━━━━━━━━━━━━━━━━\u001b[0m\u001b[37m\u001b[0m \u001b[1m3s\u001b[0m 1ms/step - accuracy: 0.9305 - loss: 0.1929 - val_accuracy: 0.9294 - val_loss: 0.1883\n",
      "Epoch 7/10\n",
      "\u001b[1m2599/2599\u001b[0m \u001b[32m━━━━━━━━━━━━━━━━━━━━\u001b[0m\u001b[37m\u001b[0m \u001b[1m3s\u001b[0m 1ms/step - accuracy: 0.9332 - loss: 0.1831 - val_accuracy: 0.9387 - val_loss: 0.1821\n",
      "Epoch 8/10\n",
      "\u001b[1m2599/2599\u001b[0m \u001b[32m━━━━━━━━━━━━━━━━━━━━\u001b[0m\u001b[37m\u001b[0m \u001b[1m3s\u001b[0m 1ms/step - accuracy: 0.9319 - loss: 0.1859 - val_accuracy: 0.9361 - val_loss: 0.1843\n",
      "Epoch 9/10\n",
      "\u001b[1m2599/2599\u001b[0m \u001b[32m━━━━━━━━━━━━━━━━━━━━\u001b[0m\u001b[37m\u001b[0m \u001b[1m3s\u001b[0m 1ms/step - accuracy: 0.9349 - loss: 0.1796 - val_accuracy: 0.9331 - val_loss: 0.1836\n",
      "Epoch 10/10\n",
      "\u001b[1m2599/2599\u001b[0m \u001b[32m━━━━━━━━━━━━━━━━━━━━\u001b[0m\u001b[37m\u001b[0m \u001b[1m3s\u001b[0m 1ms/step - accuracy: 0.9351 - loss: 0.1768 - val_accuracy: 0.9267 - val_loss: 0.1826\n",
      "Test Accuracy with optimizer adam: 0.9245892763137817\n",
      "\n",
      "Training with optimizer: rmsprop\n",
      "Epoch 1/10\n"
     ]
    },
    {
     "name": "stderr",
     "output_type": "stream",
     "text": [
      "c:\\Users\\civin\\AppData\\Local\\Programs\\Python\\Python311\\Lib\\site-packages\\keras\\src\\layers\\core\\dense.py:87: UserWarning: Do not pass an `input_shape`/`input_dim` argument to a layer. When using Sequential models, prefer using an `Input(shape)` object as the first layer in the model instead.\n",
      "  super().__init__(activity_regularizer=activity_regularizer, **kwargs)\n"
     ]
    },
    {
     "name": "stdout",
     "output_type": "stream",
     "text": [
      "\u001b[1m2599/2599\u001b[0m \u001b[32m━━━━━━━━━━━━━━━━━━━━\u001b[0m\u001b[37m\u001b[0m \u001b[1m4s\u001b[0m 1ms/step - accuracy: 0.8536 - loss: 0.3523 - val_accuracy: 0.8693 - val_loss: 0.2825\n",
      "Epoch 2/10\n",
      "\u001b[1m2599/2599\u001b[0m \u001b[32m━━━━━━━━━━━━━━━━━━━━\u001b[0m\u001b[37m\u001b[0m \u001b[1m3s\u001b[0m 1ms/step - accuracy: 0.8819 - loss: 0.2664 - val_accuracy: 0.8874 - val_loss: 0.2482\n",
      "Epoch 3/10\n",
      "\u001b[1m2599/2599\u001b[0m \u001b[32m━━━━━━━━━━━━━━━━━━━━\u001b[0m\u001b[37m\u001b[0m \u001b[1m3s\u001b[0m 1ms/step - accuracy: 0.9206 - loss: 0.2296 - val_accuracy: 0.9272 - val_loss: 0.2176\n",
      "Epoch 4/10\n",
      "\u001b[1m2599/2599\u001b[0m \u001b[32m━━━━━━━━━━━━━━━━━━━━\u001b[0m\u001b[37m\u001b[0m \u001b[1m3s\u001b[0m 1ms/step - accuracy: 0.9331 - loss: 0.1989 - val_accuracy: 0.9270 - val_loss: 0.2034\n",
      "Epoch 5/10\n",
      "\u001b[1m2599/2599\u001b[0m \u001b[32m━━━━━━━━━━━━━━━━━━━━\u001b[0m\u001b[37m\u001b[0m \u001b[1m3s\u001b[0m 1ms/step - accuracy: 0.9330 - loss: 0.1915 - val_accuracy: 0.9335 - val_loss: 0.1943\n",
      "Epoch 6/10\n",
      "\u001b[1m2599/2599\u001b[0m \u001b[32m━━━━━━━━━━━━━━━━━━━━\u001b[0m\u001b[37m\u001b[0m \u001b[1m3s\u001b[0m 1ms/step - accuracy: 0.9328 - loss: 0.1891 - val_accuracy: 0.9369 - val_loss: 0.1959\n",
      "Epoch 7/10\n",
      "\u001b[1m2599/2599\u001b[0m \u001b[32m━━━━━━━━━━━━━━━━━━━━\u001b[0m\u001b[37m\u001b[0m \u001b[1m3s\u001b[0m 1ms/step - accuracy: 0.9352 - loss: 0.1801 - val_accuracy: 0.9300 - val_loss: 0.1922\n",
      "Epoch 8/10\n",
      "\u001b[1m2599/2599\u001b[0m \u001b[32m━━━━━━━━━━━━━━━━━━━━\u001b[0m\u001b[37m\u001b[0m \u001b[1m3s\u001b[0m 1ms/step - accuracy: 0.9324 - loss: 0.1866 - val_accuracy: 0.9370 - val_loss: 0.1888\n",
      "Epoch 9/10\n",
      "\u001b[1m2599/2599\u001b[0m \u001b[32m━━━━━━━━━━━━━━━━━━━━\u001b[0m\u001b[37m\u001b[0m \u001b[1m3s\u001b[0m 1ms/step - accuracy: 0.9312 - loss: 0.1871 - val_accuracy: 0.9330 - val_loss: 0.1873\n",
      "Epoch 10/10\n",
      "\u001b[1m2599/2599\u001b[0m \u001b[32m━━━━━━━━━━━━━━━━━━━━\u001b[0m\u001b[37m\u001b[0m \u001b[1m3s\u001b[0m 1ms/step - accuracy: 0.9335 - loss: 0.1840 - val_accuracy: 0.9369 - val_loss: 0.1945\n",
      "Test Accuracy with optimizer rmsprop: 0.9352051615715027\n"
     ]
    }
   ],
   "source": [
    "def create_model_with_optimizer(input_shape, optimizer_name):\n",
    "    model = keras.Sequential()\n",
    "    model.add(layers.Dense(64, activation='relu', input_shape=input_shape))\n",
    "    model.add(layers.Dense(32, activation='relu'))\n",
    "    model.add(layers.Dense(1, activation='sigmoid'))\n",
    "    \n",
    "    if optimizer_name == 'adam':\n",
    "        optimizer = keras.optimizers.Adam()\n",
    "    elif optimizer_name == 'rmsprop':\n",
    "        optimizer = keras.optimizers.RMSprop()\n",
    "    else:\n",
    "        optimizer = keras.optimizers.SGD()  \n",
    "    \n",
    "    model.compile(optimizer=optimizer, \n",
    "                  loss='binary_crossentropy', \n",
    "                  metrics=['accuracy'])\n",
    "    \n",
    "    return model\n",
    "\n",
    "optimizers = ['sgd', 'adam', 'rmsprop']\n",
    "for opt in optimizers:\n",
    "    print(f\"\\nTraining with optimizer: {opt}\")\n",
    "    model = create_model_with_optimizer(input_shape, optimizer_name=opt)\n",
    "    history = model.fit(X_train_scaled, y_train, \n",
    "                        validation_split=0.2, \n",
    "                        epochs=10, \n",
    "                        batch_size=32, \n",
    "                        verbose=1)\n",
    "    test_loss, test_accuracy = model.evaluate(X_test_scaled, y_test, verbose=0)\n",
    "    print(f\"Test Accuracy with optimizer {opt}: {test_accuracy}\")\n"
   ]
  },
  {
   "cell_type": "code",
   "execution_count": 33,
   "metadata": {},
   "outputs": [
    {
     "name": "stdout",
     "output_type": "stream",
     "text": [
      "\n",
      "Training with an extra hidden layer\n",
      "Epoch 1/10\n"
     ]
    },
    {
     "name": "stderr",
     "output_type": "stream",
     "text": [
      "c:\\Users\\civin\\AppData\\Local\\Programs\\Python\\Python311\\Lib\\site-packages\\keras\\src\\layers\\core\\dense.py:87: UserWarning: Do not pass an `input_shape`/`input_dim` argument to a layer. When using Sequential models, prefer using an `Input(shape)` object as the first layer in the model instead.\n",
      "  super().__init__(activity_regularizer=activity_regularizer, **kwargs)\n"
     ]
    },
    {
     "name": "stdout",
     "output_type": "stream",
     "text": [
      "\u001b[1m2599/2599\u001b[0m \u001b[32m━━━━━━━━━━━━━━━━━━━━\u001b[0m\u001b[37m\u001b[0m \u001b[1m5s\u001b[0m 1ms/step - accuracy: 0.8588 - loss: 0.3380 - val_accuracy: 0.8360 - val_loss: 0.2813\n",
      "Epoch 2/10\n",
      "\u001b[1m2599/2599\u001b[0m \u001b[32m━━━━━━━━━━━━━━━━━━━━\u001b[0m\u001b[37m\u001b[0m \u001b[1m3s\u001b[0m 1ms/step - accuracy: 0.9174 - loss: 0.2352 - val_accuracy: 0.9325 - val_loss: 0.1958\n",
      "Epoch 3/10\n",
      "\u001b[1m2599/2599\u001b[0m \u001b[32m━━━━━━━━━━━━━━━━━━━━\u001b[0m\u001b[37m\u001b[0m \u001b[1m3s\u001b[0m 1ms/step - accuracy: 0.9327 - loss: 0.1881 - val_accuracy: 0.9342 - val_loss: 0.1863\n",
      "Epoch 4/10\n",
      "\u001b[1m2599/2599\u001b[0m \u001b[32m━━━━━━━━━━━━━━━━━━━━\u001b[0m\u001b[37m\u001b[0m \u001b[1m3s\u001b[0m 1ms/step - accuracy: 0.9343 - loss: 0.1792 - val_accuracy: 0.9337 - val_loss: 0.1826\n",
      "Epoch 5/10\n",
      "\u001b[1m2599/2599\u001b[0m \u001b[32m━━━━━━━━━━━━━━━━━━━━\u001b[0m\u001b[37m\u001b[0m \u001b[1m3s\u001b[0m 1ms/step - accuracy: 0.9356 - loss: 0.1767 - val_accuracy: 0.9358 - val_loss: 0.1767\n",
      "Epoch 6/10\n",
      "\u001b[1m2599/2599\u001b[0m \u001b[32m━━━━━━━━━━━━━━━━━━━━\u001b[0m\u001b[37m\u001b[0m \u001b[1m3s\u001b[0m 1ms/step - accuracy: 0.9351 - loss: 0.1771 - val_accuracy: 0.9334 - val_loss: 0.1829\n",
      "Epoch 7/10\n",
      "\u001b[1m2599/2599\u001b[0m \u001b[32m━━━━━━━━━━━━━━━━━━━━\u001b[0m\u001b[37m\u001b[0m \u001b[1m3s\u001b[0m 1ms/step - accuracy: 0.9339 - loss: 0.1782 - val_accuracy: 0.9357 - val_loss: 0.1789\n",
      "Epoch 8/10\n",
      "\u001b[1m2599/2599\u001b[0m \u001b[32m━━━━━━━━━━━━━━━━━━━━\u001b[0m\u001b[37m\u001b[0m \u001b[1m3s\u001b[0m 1ms/step - accuracy: 0.9350 - loss: 0.1779 - val_accuracy: 0.9338 - val_loss: 0.1772\n",
      "Epoch 9/10\n",
      "\u001b[1m2599/2599\u001b[0m \u001b[32m━━━━━━━━━━━━━━━━━━━━\u001b[0m\u001b[37m\u001b[0m \u001b[1m3s\u001b[0m 1ms/step - accuracy: 0.9360 - loss: 0.1759 - val_accuracy: 0.9379 - val_loss: 0.1824\n",
      "Epoch 10/10\n",
      "\u001b[1m2599/2599\u001b[0m \u001b[32m━━━━━━━━━━━━━━━━━━━━\u001b[0m\u001b[37m\u001b[0m \u001b[1m3s\u001b[0m 1ms/step - accuracy: 0.9379 - loss: 0.1721 - val_accuracy: 0.9396 - val_loss: 0.1776\n",
      "Test Accuracy with extra hidden layer: 0.9379432797431946\n"
     ]
    }
   ],
   "source": [
    "def create_model_with_extra_layer(input_shape):\n",
    "    model = keras.Sequential()\n",
    "    model.add(layers.Dense(64, activation='relu', input_shape=input_shape))\n",
    "    model.add(layers.Dense(32, activation='relu'))\n",
    "    model.add(layers.Dense(16, activation='relu')) \n",
    "    model.add(layers.Dense(1, activation='sigmoid'))\n",
    "    optimizer = keras.optimizers.Adam() \n",
    "    model.compile(optimizer=optimizer, \n",
    "                  loss='binary_crossentropy', \n",
    "                  metrics=['accuracy'])\n",
    "    \n",
    "    return model\n",
    "\n",
    "print(\"\\nTraining with an extra hidden layer\")\n",
    "model = create_model_with_extra_layer(input_shape)\n",
    "history = model.fit(X_train_scaled, y_train, \n",
    "                    validation_split=0.2, \n",
    "                    epochs=10, \n",
    "                    batch_size=32, \n",
    "                    verbose=1)\n",
    "\n",
    "test_loss, test_accuracy = model.evaluate(X_test_scaled, y_test, verbose=0)\n",
    "print(f\"Test Accuracy with extra hidden layer: {test_accuracy}\")\n",
    "\n"
   ]
  }
 ],
 "metadata": {
  "kernelspec": {
   "display_name": "Python 3",
   "language": "python",
   "name": "python3"
  },
  "language_info": {
   "codemirror_mode": {
    "name": "ipython",
    "version": 3
   },
   "file_extension": ".py",
   "mimetype": "text/x-python",
   "name": "python",
   "nbconvert_exporter": "python",
   "pygments_lexer": "ipython3",
   "version": "3.11.6"
  }
 },
 "nbformat": 4,
 "nbformat_minor": 2
}
